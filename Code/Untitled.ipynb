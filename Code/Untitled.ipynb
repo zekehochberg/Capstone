{
 "cells": [
  {
   "cell_type": "markdown",
   "metadata": {},
   "source": [
    "# Capstone Project\n",
    "\n",
    "## Problem Statement\n",
    "\n",
    "The world of craft beer has been growing steadily since the late 1970s. Nowadays you can easily find hundreds of varieties by hundreds if not thousands of different brewers. Even in most supermarkets you can find dozens of different beers available where before it was not uncommon to only see a few.\n",
    "\n",
    "Along with a greater interest in craft beer has come a greater interest in and particpation in homebrewing. There are huge organizations of people who are creating and innovating with their own beers. Some homebrewers work in the industry, while others are just enthusiasts.\n",
    "\n",
    "With this incredible growth in the craft beer marketplace, are commercial breweries making the same types of beers that homebrewers are? If not, there is a potential to increase sales by putting out products for which demand is high, but supply does not yet exist.\n",
    "\n",
    "In this project I would like to:\n",
    "\n",
    "1. Analyze what styles of homebrew recipes are being made using clustering based on data scraped from www.brewtoad.com\n",
    "\n",
    "MORE SPECIFIC\n",
    "2. Compare the styles of homebrew detected by analyzing clustering to current sales data on commercial craft beers \n",
    "3. Look for any potential areas of expansion for the craft beer marketplace\n",
    "\n"
   ]
  },
  {
   "cell_type": "code",
   "execution_count": null,
   "metadata": {},
   "outputs": [],
   "source": []
  }
 ],
 "metadata": {
  "kernelspec": {
   "display_name": "Python 3",
   "language": "python",
   "name": "python3"
  },
  "language_info": {
   "codemirror_mode": {
    "name": "ipython",
    "version": 3
   },
   "file_extension": ".py",
   "mimetype": "text/x-python",
   "name": "python",
   "nbconvert_exporter": "python",
   "pygments_lexer": "ipython3",
   "version": "3.6.5"
  },
  "varInspector": {
   "cols": {
    "lenName": 16,
    "lenType": 16,
    "lenVar": 40
   },
   "kernels_config": {
    "python": {
     "delete_cmd_postfix": "",
     "delete_cmd_prefix": "del ",
     "library": "var_list.py",
     "varRefreshCmd": "print(var_dic_list())"
    },
    "r": {
     "delete_cmd_postfix": ") ",
     "delete_cmd_prefix": "rm(",
     "library": "var_list.r",
     "varRefreshCmd": "cat(var_dic_list()) "
    }
   },
   "types_to_exclude": [
    "module",
    "function",
    "builtin_function_or_method",
    "instance",
    "_Feature"
   ],
   "window_display": false
  }
 },
 "nbformat": 4,
 "nbformat_minor": 2
}
