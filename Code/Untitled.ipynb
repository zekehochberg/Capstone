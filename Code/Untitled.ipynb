{
 "cells": [
  {
   "cell_type": "code",
   "execution_count": 3,
   "metadata": {},
   "outputs": [],
   "source": [
    "import pandas as pd\n",
    "import os\n",
    "import re\n",
    "import ast\n",
    "from tqdm import tqdm\n",
    "from hdbscan import HDBSCAN\n",
    "from sklearn.decomposition import PCA\n",
    "from sklearn.manifold import TSNE\n",
    "from sklearn.metrics import silhouette_score, silhouette_samples\n",
    "from sklearn.preprocessing import StandardScaler\n",
    "from sklearn.cluster import AgglomerativeClustering, AffinityPropagation, Birch, KMeans\n",
    "import matplotlib.cm as cm\n",
    "import matplotlib.pyplot as plt\n",
    "import seaborn as sns\n",
    "%matplotlib inline"
   ]
  },
  {
   "cell_type": "code",
   "execution_count": 4,
   "metadata": {},
   "outputs": [],
   "source": [
    "df = pd.read_csv('../Ignore/recipes_fully_clean.csv', index_col=0)"
   ]
  },
  {
   "cell_type": "code",
   "execution_count": 5,
   "metadata": {},
   "outputs": [
    {
     "data": {
      "text/plain": [
       "(73055, 33)"
      ]
     },
     "execution_count": 5,
     "metadata": {},
     "output_type": "execute_result"
    }
   ],
   "source": [
    "df.shape"
   ]
  },
  {
   "cell_type": "code",
   "execution_count": 6,
   "metadata": {},
   "outputs": [],
   "source": [
    "km = KMeans(n_clusters=80)"
   ]
  },
  {
   "cell_type": "code",
   "execution_count": null,
   "metadata": {},
   "outputs": [],
   "source": [
    "km_labels = km.fit_predict(df)"
   ]
  },
  {
   "cell_type": "code",
   "execution_count": 17,
   "metadata": {},
   "outputs": [],
   "source": [
    "aff = AffinityPropagation(verbose=True)"
   ]
  },
  {
   "cell_type": "code",
   "execution_count": null,
   "metadata": {},
   "outputs": [],
   "source": [
    "aff_labels = aff.fit_predict(df)"
   ]
  },
  {
   "cell_type": "code",
   "execution_count": 5,
   "metadata": {},
   "outputs": [
    {
     "data": {
      "text/html": [
       "<div>\n",
       "<style scoped>\n",
       "    .dataframe tbody tr th:only-of-type {\n",
       "        vertical-align: middle;\n",
       "    }\n",
       "\n",
       "    .dataframe tbody tr th {\n",
       "        vertical-align: top;\n",
       "    }\n",
       "\n",
       "    .dataframe thead th {\n",
       "        text-align: right;\n",
       "    }\n",
       "</style>\n",
       "<table border=\"1\" class=\"dataframe\">\n",
       "  <thead>\n",
       "    <tr style=\"text-align: right;\">\n",
       "      <th></th>\n",
       "      <th>Unnamed: 0</th>\n",
       "      <th>ABV</th>\n",
       "      <th>FG</th>\n",
       "      <th>IBU</th>\n",
       "      <th>OG</th>\n",
       "      <th>SRM</th>\n",
       "      <th>total_fermentables</th>\n",
       "      <th>total_hops</th>\n",
       "      <th>hop_cluster_0</th>\n",
       "      <th>hop_cluster_1</th>\n",
       "      <th>...</th>\n",
       "      <th>fermentable_cluster6</th>\n",
       "      <th>fermentable_cluster7</th>\n",
       "      <th>fermentable_cluster8</th>\n",
       "      <th>fermentable_cluster9</th>\n",
       "      <th>fermentable_cluster10</th>\n",
       "      <th>fermentable_cluster11</th>\n",
       "      <th>fermentable_cluster12</th>\n",
       "      <th>fermentable_cluster13</th>\n",
       "      <th>fermentable_cluster14</th>\n",
       "      <th>fermentable_cluster15</th>\n",
       "    </tr>\n",
       "  </thead>\n",
       "  <tbody>\n",
       "    <tr>\n",
       "      <th>0</th>\n",
       "      <td>0</td>\n",
       "      <td>-0.383947</td>\n",
       "      <td>-0.749897</td>\n",
       "      <td>-0.228964</td>\n",
       "      <td>-0.517439</td>\n",
       "      <td>-0.779373</td>\n",
       "      <td>-0.716803</td>\n",
       "      <td>0.464159</td>\n",
       "      <td>0.0</td>\n",
       "      <td>0.0</td>\n",
       "      <td>...</td>\n",
       "      <td>0.0</td>\n",
       "      <td>0.0</td>\n",
       "      <td>0.0</td>\n",
       "      <td>0.0</td>\n",
       "      <td>0.0</td>\n",
       "      <td>0.000000</td>\n",
       "      <td>0.0</td>\n",
       "      <td>0.0</td>\n",
       "      <td>0.0</td>\n",
       "      <td>0.0</td>\n",
       "    </tr>\n",
       "    <tr>\n",
       "      <th>1</th>\n",
       "      <td>1</td>\n",
       "      <td>-0.051213</td>\n",
       "      <td>-0.286110</td>\n",
       "      <td>-0.970441</td>\n",
       "      <td>-0.110350</td>\n",
       "      <td>-0.779373</td>\n",
       "      <td>-0.196675</td>\n",
       "      <td>-0.795566</td>\n",
       "      <td>0.0</td>\n",
       "      <td>0.0</td>\n",
       "      <td>...</td>\n",
       "      <td>0.0</td>\n",
       "      <td>0.0</td>\n",
       "      <td>0.0</td>\n",
       "      <td>0.0</td>\n",
       "      <td>0.0</td>\n",
       "      <td>0.000000</td>\n",
       "      <td>0.0</td>\n",
       "      <td>0.0</td>\n",
       "      <td>0.0</td>\n",
       "      <td>0.0</td>\n",
       "    </tr>\n",
       "    <tr>\n",
       "      <th>2</th>\n",
       "      <td>2</td>\n",
       "      <td>-0.583587</td>\n",
       "      <td>0.177678</td>\n",
       "      <td>-0.582048</td>\n",
       "      <td>-0.381743</td>\n",
       "      <td>-0.616129</td>\n",
       "      <td>-0.434251</td>\n",
       "      <td>-0.512548</td>\n",
       "      <td>0.0</td>\n",
       "      <td>0.0</td>\n",
       "      <td>...</td>\n",
       "      <td>0.0</td>\n",
       "      <td>0.0</td>\n",
       "      <td>0.0</td>\n",
       "      <td>0.0</td>\n",
       "      <td>0.0</td>\n",
       "      <td>0.000000</td>\n",
       "      <td>0.0</td>\n",
       "      <td>0.0</td>\n",
       "      <td>0.0</td>\n",
       "      <td>0.0</td>\n",
       "    </tr>\n",
       "    <tr>\n",
       "      <th>3</th>\n",
       "      <td>3</td>\n",
       "      <td>-0.650134</td>\n",
       "      <td>-0.286110</td>\n",
       "      <td>0.512513</td>\n",
       "      <td>-0.585288</td>\n",
       "      <td>-0.697751</td>\n",
       "      <td>-0.544751</td>\n",
       "      <td>0.403654</td>\n",
       "      <td>0.0</td>\n",
       "      <td>0.0</td>\n",
       "      <td>...</td>\n",
       "      <td>0.0</td>\n",
       "      <td>0.0</td>\n",
       "      <td>0.0</td>\n",
       "      <td>0.0</td>\n",
       "      <td>0.0</td>\n",
       "      <td>0.454545</td>\n",
       "      <td>0.0</td>\n",
       "      <td>0.0</td>\n",
       "      <td>0.0</td>\n",
       "      <td>0.0</td>\n",
       "    </tr>\n",
       "    <tr>\n",
       "      <th>4</th>\n",
       "      <td>4</td>\n",
       "      <td>3.342670</td>\n",
       "      <td>3.424190</td>\n",
       "      <td>3.654961</td>\n",
       "      <td>3.621305</td>\n",
       "      <td>3.546617</td>\n",
       "      <td>3.827078</td>\n",
       "      <td>3.408294</td>\n",
       "      <td>0.0</td>\n",
       "      <td>0.0</td>\n",
       "      <td>...</td>\n",
       "      <td>0.0</td>\n",
       "      <td>0.0</td>\n",
       "      <td>0.0</td>\n",
       "      <td>0.0</td>\n",
       "      <td>0.0</td>\n",
       "      <td>4.000000</td>\n",
       "      <td>0.0</td>\n",
       "      <td>0.0</td>\n",
       "      <td>0.0</td>\n",
       "      <td>1.0</td>\n",
       "    </tr>\n",
       "  </tbody>\n",
       "</table>\n",
       "<p>5 rows × 34 columns</p>\n",
       "</div>"
      ],
      "text/plain": [
       "   Unnamed: 0       ABV        FG       IBU        OG       SRM  \\\n",
       "0           0 -0.383947 -0.749897 -0.228964 -0.517439 -0.779373   \n",
       "1           1 -0.051213 -0.286110 -0.970441 -0.110350 -0.779373   \n",
       "2           2 -0.583587  0.177678 -0.582048 -0.381743 -0.616129   \n",
       "3           3 -0.650134 -0.286110  0.512513 -0.585288 -0.697751   \n",
       "4           4  3.342670  3.424190  3.654961  3.621305  3.546617   \n",
       "\n",
       "   total_fermentables  total_hops  hop_cluster_0  hop_cluster_1  \\\n",
       "0           -0.716803    0.464159            0.0            0.0   \n",
       "1           -0.196675   -0.795566            0.0            0.0   \n",
       "2           -0.434251   -0.512548            0.0            0.0   \n",
       "3           -0.544751    0.403654            0.0            0.0   \n",
       "4            3.827078    3.408294            0.0            0.0   \n",
       "\n",
       "           ...            fermentable_cluster6  fermentable_cluster7  \\\n",
       "0          ...                             0.0                   0.0   \n",
       "1          ...                             0.0                   0.0   \n",
       "2          ...                             0.0                   0.0   \n",
       "3          ...                             0.0                   0.0   \n",
       "4          ...                             0.0                   0.0   \n",
       "\n",
       "   fermentable_cluster8  fermentable_cluster9  fermentable_cluster10  \\\n",
       "0                   0.0                   0.0                    0.0   \n",
       "1                   0.0                   0.0                    0.0   \n",
       "2                   0.0                   0.0                    0.0   \n",
       "3                   0.0                   0.0                    0.0   \n",
       "4                   0.0                   0.0                    0.0   \n",
       "\n",
       "   fermentable_cluster11  fermentable_cluster12  fermentable_cluster13  \\\n",
       "0               0.000000                    0.0                    0.0   \n",
       "1               0.000000                    0.0                    0.0   \n",
       "2               0.000000                    0.0                    0.0   \n",
       "3               0.454545                    0.0                    0.0   \n",
       "4               4.000000                    0.0                    0.0   \n",
       "\n",
       "   fermentable_cluster14  fermentable_cluster15  \n",
       "0                    0.0                    0.0  \n",
       "1                    0.0                    0.0  \n",
       "2                    0.0                    0.0  \n",
       "3                    0.0                    0.0  \n",
       "4                    0.0                    1.0  \n",
       "\n",
       "[5 rows x 34 columns]"
      ]
     },
     "execution_count": 5,
     "metadata": {},
     "output_type": "execute_result"
    }
   ],
   "source": [
    "df.head()"
   ]
  },
  {
   "cell_type": "code",
   "execution_count": null,
   "metadata": {},
   "outputs": [],
   "source": []
  }
 ],
 "metadata": {
  "kernelspec": {
   "display_name": "Python 3",
   "language": "python",
   "name": "python3"
  },
  "language_info": {
   "codemirror_mode": {
    "name": "ipython",
    "version": 3
   },
   "file_extension": ".py",
   "mimetype": "text/x-python",
   "name": "python",
   "nbconvert_exporter": "python",
   "pygments_lexer": "ipython3",
   "version": "3.6.5"
  },
  "varInspector": {
   "cols": {
    "lenName": 16,
    "lenType": 16,
    "lenVar": 40
   },
   "kernels_config": {
    "python": {
     "delete_cmd_postfix": "",
     "delete_cmd_prefix": "del ",
     "library": "var_list.py",
     "varRefreshCmd": "print(var_dic_list())"
    },
    "r": {
     "delete_cmd_postfix": ") ",
     "delete_cmd_prefix": "rm(",
     "library": "var_list.r",
     "varRefreshCmd": "cat(var_dic_list()) "
    }
   },
   "types_to_exclude": [
    "module",
    "function",
    "builtin_function_or_method",
    "instance",
    "_Feature"
   ],
   "window_display": false
  }
 },
 "nbformat": 4,
 "nbformat_minor": 2
}
