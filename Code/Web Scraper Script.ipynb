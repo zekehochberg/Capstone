{
 "cells": [
  {
   "cell_type": "code",
   "execution_count": 16,
   "metadata": {
    "scrolled": false
   },
   "outputs": [],
   "source": [
    "# Import necessary libraries\n",
    "import requests\n",
    "import pandas as pd\n",
    "import time\n",
    "import datetime\n",
    "from bs4 import BeautifulSoup\n",
    "\n",
    "# Establish base url\n",
    "base_url = 'http://www.brewtoad.com'\n",
    "scan_url = 'https://www.brewtoad.com/recipes?&sort=rank&recipe_types%5B%5D=3'\n",
    "\n",
    "# Create an empty list of recipes\n",
    "recipes = []\n",
    "\n",
    "# Set Start Time\n",
    "start = time.time()\n",
    "\n",
    "# Pull 3000 pages of recipes\n",
    "for i in range(1, 3):\n",
    "    # set page number\n",
    "    params = {'page': i}\n",
    "    \n",
    "    # generate request\n",
    "    res = requests.get(url=scan_url, params=params)\n",
    "    \n",
    "    # Instantiate new beautiful soup parser\n",
    "    soup = BeautifulSoup(res.content, 'lxml')\n",
    "    \n",
    "    # Find all recipe links on the page\n",
    "    recipe_links = soup.find_all('a', attrs={'class': 'recipe-link'})\n",
    "\n",
    "    for r in recipe_links:\n",
    "        try:\n",
    "            # Get new URL\n",
    "            new_url = base_url + r.attrs['href']\n",
    "\n",
    "            # Use new URL to generate new request\n",
    "            new_res = requests.get(new_url)\n",
    "\n",
    "            # Create new beautiful soup parser\n",
    "            new_soup = BeautifulSoup(new_res.content, 'lxml')\n",
    "\n",
    "            #instantiate recipe dictionary\n",
    "            recipe = {}\n",
    "\n",
    "            # Find Name and Style\n",
    "            recipe['name'] = new_soup.find('h1').text.strip()\n",
    "            recipe['style'] = new_soup.find('div', attrs={'class': 'header-content'}).find('a').text.strip()\n",
    "\n",
    "            # Include link to recipe\n",
    "            recipe['link'] = new_url\n",
    "\n",
    "            # Check if it conforms to style guidelines\n",
    "            recipe['meets_guidelines'] = 0\n",
    "            if new_soup.find('i', attrs={'class': 'icon icon-check'}):\n",
    "                recipe['meets_guidelines'] = 1\n",
    "\n",
    "            # Find base stats and append to dictionary\n",
    "            base_stats = new_soup.find_all('div', attrs={'class': 'value'})\n",
    "            recipe['OG'] = float(base_stats[0].text.strip())\n",
    "            recipe['FG'] = float(base_stats[1].text.strip())\n",
    "            recipe['IBU'] = int(base_stats[2].text.strip())\n",
    "            recipe['SRM'] = int(base_stats[3].text.strip())\n",
    "            recipe['ABV'] = float(base_stats[4].text.replace('%', '').strip())/100\n",
    "\n",
    "            # Find fermentables and append to dictionary\n",
    "            grains = new_soup.find('table', attrs={'id': 'fermentables'}).find('tbody').find_all('tr')\n",
    "            fermentables = {}\n",
    "            for j, g in enumerate(grains):\n",
    "                generic_ferm = True\n",
    "                row = g.find_all('td')\n",
    "                fermentable = {}\n",
    "                fermentable['amount'] = float(row[0].text.strip().split()[0])\n",
    "                fermentable['amount_unit'] = row[0].text.strip().split()[1]\n",
    "                if row[1].find('a', attrs={'class': 'js-modal'}):\n",
    "                    fermentable['name'] = row[1].find('a')['data-title']\n",
    "                else:\n",
    "                    fermentable['name'] = row[1].text.strip()\n",
    "                    generic_ferm = False\n",
    "                fermentable['maltster'] = row[2].text.strip()\n",
    "                fermentable['use'] = row[3].text.strip()\n",
    "                fermentable['PPG'] = int(row[4].text.strip())\n",
    "                fermentable['color'] = int(row[5].text.strip().split()[0])\n",
    "                fermentable['color_unit'] = row[5].text.strip().split()[1]\n",
    "                fermentable['generic'] = generic_ferm\n",
    "                fermentables[j] = fermentable\n",
    "            recipe['fermentables'] = fermentables\n",
    "\n",
    "            # Find hops and append to dictionary\n",
    "            hop_table = new_soup.find('table', attrs={'id': 'hops'}).find('tbody').find_all('tr')\n",
    "            hops = {}\n",
    "            for j, h in enumerate(hop_table):\n",
    "                row = h.find_all('td')\n",
    "                hop = {}\n",
    "                generic_hop = True\n",
    "                hop['amount'] = float(row[0].text.strip().split()[0])\n",
    "                hop['amount_unit'] = row[0].text.strip().split()[1]\n",
    "                if row[1].find('a', attrs={'class': 'js-modal'}):\n",
    "                    hop['name'] = row[1].find('a')['data-title']\n",
    "                else:\n",
    "                    hop['name'] = row[1].text.strip()\n",
    "                    generic_hop = False\n",
    "                hop['name'] = row[1].text.strip()\n",
    "                hop['time'] = int(row[2].text.strip().split()[0])\n",
    "                hop['use'] = row[3].text.replace('\\n', '')\n",
    "                hop['form'] = row[4].text.replace('\\n', '')\n",
    "                hop['alpha'] = float(row[5].text.strip().replace('%', ''))/100\n",
    "                hop['generic'] = generic_hop\n",
    "                hops[j] = hop\n",
    "            recipe['hops'] = hops\n",
    "\n",
    "            # Find yeast\n",
    "            yeast_table = new_soup.find('table', attrs={'id': 'yeasts'}).find('tbody').find_all('tr')\n",
    "            yeasts = {}\n",
    "            for j, y in enumerate(yeast_table):\n",
    "                yeast_row = y.find_all('td')\n",
    "                yeast = {}\n",
    "                generic_yeast = True\n",
    "                if yeast_row[0].find('a', attrs={'class': 'js-modal'}):\n",
    "                    yeast['name'] = yeast_row[0].find('a')['data-title']\n",
    "                else:\n",
    "                    yeast['name'] = row[0].text.strip()\n",
    "                    generic_yeast = False\n",
    "                yeast['generic'] = generic_yeast\n",
    "                yeast['yeast_lab'] = yeast_row[1].text.strip().replace('\\n', ' ')\n",
    "                yeast['yeast_attenuation'] = float(yeast_row[2].text.strip().replace('%', ''))/100\n",
    "                yeasts[j] = yeast\n",
    "            recipe['yeast'] = yeasts\n",
    "\n",
    "            # Find boil time and batch size\n",
    "            final_stats = new_soup.find('ul', attrs={'class': 'stat-group-thirds'}).find_all('li')\n",
    "            recipe['volume'] = float(final_stats[0].text.replace('Batch Size', '').strip().split()[0])\n",
    "            recipe['volume_units'] = final_stats[0].text.replace('Batch Size', '').strip().split()[1]\n",
    "            recipe['boil_time'] = int(final_stats[1].text.replace('Boil Time', '').strip().split()[0])\n",
    "            recipe['boil_time_units'] = final_stats[1].text.replace('Boil Time', '').strip().split()[1]\n",
    "\n",
    "            # Determine if there are extras\n",
    "            if new_soup.find('table', attrs={'id': 'extras'}):\n",
    "                extra_table = new_soup.find('table', attrs={'id': 'extras'}).find('tbody').find_all('tr')\n",
    "                extras = {}\n",
    "                for j, e in enumerate(extra_table):\n",
    "                    extra_rows = e.find_all('td')\n",
    "                    extra = {}\n",
    "                    generic = False\n",
    "                    extra['amount'] = float(extra_rows[0].text.strip().split()[0])\n",
    "                    extra['amount_unit'] = extra_rows[0].text.strip().split()[1]\n",
    "                    if extra_rows[1].find('a', attrs={'class': 'js-modal'}):\n",
    "                        extra['name'] = extra_rows[1].find('a')['data-title']\n",
    "                        generic = True\n",
    "                    else:\n",
    "                        extra['name'] = extra_rows[1].text.strip()\n",
    "                    extra['time'] = extra_rows[2].text.strip()\n",
    "                    extra['use'] = extra_rows[3].text.strip()\n",
    "                    extra['generic'] = generic\n",
    "                    extras[j] = extra\n",
    "                recipe['extras'] = extras\n",
    "            else:\n",
    "                recipe['extras'] = 0\n",
    "\n",
    "\n",
    "            # Add recipe to recipe list\n",
    "            recipes.append(recipe)\n",
    "        except:\n",
    "            continue\n",
    "    \n",
    "    if i % 3 == 0:\n",
    "        elapsed = time.time()-start\n",
    "        hours = int(elapsed//3600)\n",
    "        minutes = int((elapsed-(hours*3600))//60)\n",
    "        seconds = int((elapsed-(hours*3600)-(minutes*60)))\n",
    "        print(i, 'Pages Scanned', '\\t', str(i/30) + '% Complete \\t TIME ELAPSED: {}:{}:{}'.format(hours, minutes, seconds))\n",
    "        \n",
    "    # Every 100 pages, create dataframe and send to csv\n",
    "    if i % 100 == 0:\n",
    "\n",
    "        # Convert list of dictionaries into dataframe\n",
    "        df = pd.DataFrame(recipes)\n",
    "        df.to_csv('./brewtoad_recipes_' + str(i) + '.csv')\n",
    "        recipes = []\n",
    "        time.sleep(3)\n"
   ]
  },
  {
   "cell_type": "code",
   "execution_count": 14,
   "metadata": {
    "scrolled": false
   },
   "outputs": [
    {
     "data": {
      "text/plain": [
       "{0: {'name': 'American Ale II',\n",
       "  'generic': True,\n",
       "  'yeast_lab': 'Wyeast 1272',\n",
       "  'yeast_attenuation': 0.74}}"
      ]
     },
     "execution_count": 14,
     "metadata": {},
     "output_type": "execute_result"
    }
   ],
   "source": [
    "df = pd.DataFrame(recipes)\n",
    "df['yeast'][10]"
   ]
  },
  {
   "cell_type": "code",
   "execution_count": 17,
   "metadata": {},
   "outputs": [],
   "source": [
    "for i in df.index:\n",
    "    d = df.loc[i, 'yeast']\n",
    "    for j in d.values():\n",
    "        if j['generic'] == False:\n",
    "            print(i)"
   ]
  },
  {
   "cell_type": "code",
   "execution_count": 54,
   "metadata": {},
   "outputs": [
    {
     "data": {
      "text/plain": [
       "1"
      ]
     },
     "execution_count": 54,
     "metadata": {},
     "output_type": "execute_result"
    }
   ],
   "source": [
    "73//60"
   ]
  },
  {
   "cell_type": "code",
   "execution_count": 41,
   "metadata": {
    "scrolled": true
   },
   "outputs": [
    {
     "data": {
      "text/plain": [
       "{0: {'amount': 9.0,\n",
       "  'amount_unit': 'lb',\n",
       "  'name': 'Maris Otter Pale Ale Malt',\n",
       "  'maltster': 'Thomas Fawcett & Sons',\n",
       "  'use': 'Mash',\n",
       "  'PPG': 36,\n",
       "  'color': 2,\n",
       "  'color_unit': '°L'},\n",
       " 1: {'amount': 1.5,\n",
       "  'amount_unit': 'lb',\n",
       "  'name': 'Munich Malt 10L',\n",
       "  'maltster': 'Briess',\n",
       "  'use': 'Mash',\n",
       "  'PPG': 35,\n",
       "  'color': 10,\n",
       "  'color_unit': '°L'},\n",
       " 2: {'amount': 0.75,\n",
       "  'amount_unit': 'lb',\n",
       "  'name': 'Caramel Malt 40L',\n",
       "  'maltster': 'Briess',\n",
       "  'use': 'Mash',\n",
       "  'PPG': 34,\n",
       "  'color': 40,\n",
       "  'color_unit': '°L'},\n",
       " 3: {'amount': 0.5,\n",
       "  'amount_unit': 'lb',\n",
       "  'name': 'Chocolate Wheat Malt',\n",
       "  'maltster': 'Any',\n",
       "  'use': 'Mash',\n",
       "  'PPG': 33,\n",
       "  'color': 400,\n",
       "  'color_unit': '°L'},\n",
       " 4: {'amount': 0.5,\n",
       "  'amount_unit': 'lb',\n",
       "  'name': 'Black Malt',\n",
       "  'maltster': 'Briess',\n",
       "  'use': 'Mash',\n",
       "  'PPG': 32,\n",
       "  'color': 500,\n",
       "  'color_unit': '°L'}}"
      ]
     },
     "execution_count": 41,
     "metadata": {},
     "output_type": "execute_result"
    }
   ],
   "source": [
    "df.loc[12, 'fermentables']"
   ]
  },
  {
   "cell_type": "code",
   "execution_count": 37,
   "metadata": {},
   "outputs": [],
   "source": [
    "def fermentable_length(row):\n",
    "    max_len = 0\n",
    "    row_len = len(row['fermentables'])\n",
    "    if row_len > max_len:\n",
    "        max_len = row_len\n",
    "    return max_len"
   ]
  },
  {
   "cell_type": "code",
   "execution_count": 40,
   "metadata": {},
   "outputs": [
    {
     "data": {
      "text/plain": [
       "4    20\n",
       "5    13\n",
       "3    10\n",
       "2    10\n",
       "6     3\n",
       "7     2\n",
       "1     1\n",
       "dtype: int64"
      ]
     },
     "execution_count": 40,
     "metadata": {},
     "output_type": "execute_result"
    }
   ],
   "source": [
    "df.apply(fermentable_length, axis=1).value_counts()"
   ]
  },
  {
   "cell_type": "code",
   "execution_count": 14,
   "metadata": {},
   "outputs": [],
   "source": [
    "import requests\n",
    "import pandas as pd\n",
    "import time\n",
    "import datetime\n",
    "from bs4 import BeautifulSoup\n",
    "\n",
    "u = 'https://www.brewtoad.com/recipes/firework-cream-ale'\n",
    "res = requests.get(u)\n",
    "bs = BeautifulSoup(res.content, 'lxml')"
   ]
  },
  {
   "cell_type": "code",
   "execution_count": 15,
   "metadata": {},
   "outputs": [
    {
     "data": {
      "text/plain": [
       "{0: {'amount': 8.0,\n",
       "  'amount_unit': 'lb',\n",
       "  'name': '2-Row (US)',\n",
       "  'maltster': 'Rahr',\n",
       "  'use': 'Mash',\n",
       "  'PPG': 38,\n",
       "  'color': 1,\n",
       "  'color_unit': '°L',\n",
       "  'generic': True},\n",
       " 1: {'amount': 2.0,\n",
       "  'amount_unit': 'lb',\n",
       "  'name': 'Flaked Corn',\n",
       "  'maltster': 'Any',\n",
       "  'use': 'Mash',\n",
       "  'PPG': 37,\n",
       "  'color': 1,\n",
       "  'color_unit': '°L',\n",
       "  'generic': True},\n",
       " 2: {'amount': 1.0,\n",
       "  'amount_unit': 'lb',\n",
       "  'name': 'Crystal 15L (CA)',\n",
       "  'maltster': 'Great Western',\n",
       "  'use': 'Mash',\n",
       "  'PPG': 10,\n",
       "  'color': 15,\n",
       "  'color_unit': '°L',\n",
       "  'generic': True},\n",
       " 3: {'amount': 1.0,\n",
       "  'amount_unit': 'lb',\n",
       "  'name': 'Carapils (Dextrine Malt) (US)',\n",
       "  'maltster': 'Briess',\n",
       "  'use': 'Mash',\n",
       "  'PPG': 34,\n",
       "  'color': 1,\n",
       "  'color_unit': '°L',\n",
       "  'generic': True}}"
      ]
     },
     "execution_count": 15,
     "metadata": {},
     "output_type": "execute_result"
    }
   ],
   "source": [
    "grains = bs.find('table', attrs={'id': 'fermentables'}).find('tbody').find_all('tr')\n",
    "fermentables = {}\n",
    "for j, g in enumerate(grains):\n",
    "    generic_ferm = True\n",
    "    row = g.find_all('td')\n",
    "    fermentable = {}\n",
    "    fermentable['amount'] = float(row[0].text.strip().split()[0])\n",
    "    fermentable['amount_unit'] = row[0].text.strip().split()[1]\n",
    "    if row[1].find('a', attrs={'class': 'js-modal'}):\n",
    "        fermentable['name'] = row[1].find('a')['data-title']\n",
    "    else:\n",
    "        fermentable['name'] = row[1].text.strip()\n",
    "        generic_ferm = False\n",
    "    fermentable['maltster'] = row[2].text.strip()\n",
    "    fermentable['use'] = row[3].text.strip()\n",
    "    fermentable['PPG'] = int(row[4].text.strip())\n",
    "    fermentable['color'] = int(row[5].text.strip().split()[0])\n",
    "    fermentable['color_unit'] = row[5].text.strip().split()[1]\n",
    "    fermentable['generic'] = generic_ferm\n",
    "    fermentables[j] = fermentable\n",
    "fermentables\n"
   ]
  },
  {
   "cell_type": "code",
   "execution_count": null,
   "metadata": {},
   "outputs": [],
   "source": []
  }
 ],
 "metadata": {
  "kernelspec": {
   "display_name": "Python 3",
   "language": "python",
   "name": "python3"
  },
  "language_info": {
   "codemirror_mode": {
    "name": "ipython",
    "version": 3
   },
   "file_extension": ".py",
   "mimetype": "text/x-python",
   "name": "python",
   "nbconvert_exporter": "python",
   "pygments_lexer": "ipython3",
   "version": "3.6.5"
  },
  "varInspector": {
   "cols": {
    "lenName": 16,
    "lenType": 16,
    "lenVar": 40
   },
   "kernels_config": {
    "python": {
     "delete_cmd_postfix": "",
     "delete_cmd_prefix": "del ",
     "library": "var_list.py",
     "varRefreshCmd": "print(var_dic_list())"
    },
    "r": {
     "delete_cmd_postfix": ") ",
     "delete_cmd_prefix": "rm(",
     "library": "var_list.r",
     "varRefreshCmd": "cat(var_dic_list()) "
    }
   },
   "types_to_exclude": [
    "module",
    "function",
    "builtin_function_or_method",
    "instance",
    "_Feature"
   ],
   "window_display": false
  }
 },
 "nbformat": 4,
 "nbformat_minor": 2
}
