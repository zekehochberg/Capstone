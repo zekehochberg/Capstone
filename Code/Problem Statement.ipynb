{
 "cells": [
  {
   "cell_type": "markdown",
   "metadata": {},
   "source": [
    "# Capstone Project\n",
    "\n",
    "## Problem Statement\n",
    "\n",
    "The world of craft beer has been growing steadily since the late 1970s. Nowadays you can easily find hundreds of varieties by hundreds if not thousands of different brewers. Even in most supermarkets you can find dozens of different beers available where before it was not uncommon to only see a few.\n",
    "\n",
    "Along with a greater interest in craft beer has come a greater interest in and particpation in homebrewing. There are huge organizations of people who are creating and innovating with their own beers. Some homebrewers work in the industry, while others are just enthusiasts. All share a love of trying\n",
    "\n",
    "With this incredible growth in the craft beer marketplace, are commercial breweries making the same types of beers that homebrewers are? If not, there is a potential to increase sales by putting out products for which demand is high, but supply does not yet exist.\n",
    "\n",
    "In this project I would like to:\n",
    "\n",
    "1. Analyze what styles of homebrew recipes are being made using clustering based on data scraped from www.brewtoad.com\n",
    "\n",
    "2. Compare generated cluseter parameters with BJCP guidelines to determine if any BJCP categories should be expanded or combined to more accurately reflect current homebrewing trends, or if the BJCP is missing any categories within the homebrewing community.\n",
    "\n",
    "3. Write recommendations for the BJCP in developing next set of style guidelines."
   ]
  },
  {
   "cell_type": "markdown",
   "metadata": {},
   "source": [
    "---\n",
    "## Gathering Data\n",
    "\n",
    "Data is coming from 2 separate sources:\n",
    "1. Brewtoad Scraper: This is a scraper I wrote to pull recipes from the webiste www.brewtoad.com.  This scraper is running on an AWS EC2 instance to gather data currently. It will get the name, style, base statistics, and full recipe details of each recipe it scans.\n",
    "2. 2015 BJCP Guidelines: [These guidelines](https://www.bjcp.org/docs/2015_Guidelines_Beer.pdf) are the most recent officially published beer guidelines. This pdf document can be found in .csv form [here](https://www.bjcp.org/docs/2015_styleguide.xml)"
   ]
  }
 ],
 "metadata": {
  "kernelspec": {
   "display_name": "Python 3",
   "language": "python",
   "name": "python3"
  },
  "language_info": {
   "codemirror_mode": {
    "name": "ipython",
    "version": 3
   },
   "file_extension": ".py",
   "mimetype": "text/x-python",
   "name": "python",
   "nbconvert_exporter": "python",
   "pygments_lexer": "ipython3",
   "version": "3.6.5"
  },
  "varInspector": {
   "cols": {
    "lenName": 16,
    "lenType": 16,
    "lenVar": 40
   },
   "kernels_config": {
    "python": {
     "delete_cmd_postfix": "",
     "delete_cmd_prefix": "del ",
     "library": "var_list.py",
     "varRefreshCmd": "print(var_dic_list())"
    },
    "r": {
     "delete_cmd_postfix": ") ",
     "delete_cmd_prefix": "rm(",
     "library": "var_list.r",
     "varRefreshCmd": "cat(var_dic_list()) "
    }
   },
   "types_to_exclude": [
    "module",
    "function",
    "builtin_function_or_method",
    "instance",
    "_Feature"
   ],
   "window_display": false
  }
 },
 "nbformat": 4,
 "nbformat_minor": 2
}
