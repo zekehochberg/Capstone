{
 "cells": [
  {
   "cell_type": "code",
   "execution_count": 1,
   "metadata": {},
   "outputs": [],
   "source": [
    "import pandas as pd\n",
    "import os\n",
    "import re\n",
    "import matplotlib.pyplot as plt\n",
    "%matplotlib inline"
   ]
  },
  {
   "cell_type": "markdown",
   "metadata": {},
   "source": [
    "### Read in Data"
   ]
  },
  {
   "cell_type": "code",
   "execution_count": 2,
   "metadata": {},
   "outputs": [],
   "source": [
    "for (dirpath, dirnames, filenames) in os.walk('../Data/recipes/'):\n",
    "    break"
   ]
  },
  {
   "cell_type": "code",
   "execution_count": 3,
   "metadata": {
    "scrolled": true
   },
   "outputs": [
    {
     "data": {
      "text/plain": [
       "31"
      ]
     },
     "execution_count": 3,
     "metadata": {},
     "output_type": "execute_result"
    }
   ],
   "source": [
    "len(filenames)"
   ]
  },
  {
   "cell_type": "code",
   "execution_count": 6,
   "metadata": {},
   "outputs": [
    {
     "name": "stderr",
     "output_type": "stream",
     "text": [
      "/anaconda3/lib/python3.6/site-packages/ipykernel_launcher.py:4: FutureWarning: Sorting because non-concatenation axis is not aligned. A future version\n",
      "of pandas will change to not sort by default.\n",
      "\n",
      "To accept the future behavior, pass 'sort=False'.\n",
      "\n",
      "To retain the current behavior and silence the warning, pass 'sort=True'.\n",
      "\n",
      "  after removing the cwd from sys.path.\n"
     ]
    }
   ],
   "source": [
    "df = pd.DataFrame()\n",
    "for i in filenames:\n",
    "    new_df = pd.read_csv('../Data/recipes/' + i)\n",
    "    df = pd.concat([df, new_df], axis=0, ignore_index=True)"
   ]
  },
  {
   "cell_type": "code",
   "execution_count": 7,
   "metadata": {},
   "outputs": [],
   "source": [
    "# Save complete dataframe as new file\n",
    "df.to_csv('../Data/complete_brewtoad_recipes.csv')"
   ]
  },
  {
   "cell_type": "markdown",
   "metadata": {},
   "source": [
    "### Data Cleaning"
   ]
  },
  {
   "cell_type": "code",
   "execution_count": 8,
   "metadata": {
    "scrolled": true
   },
   "outputs": [
    {
     "data": {
      "text/html": [
       "<div>\n",
       "<style scoped>\n",
       "    .dataframe tbody tr th:only-of-type {\n",
       "        vertical-align: middle;\n",
       "    }\n",
       "\n",
       "    .dataframe tbody tr th {\n",
       "        vertical-align: top;\n",
       "    }\n",
       "\n",
       "    .dataframe thead th {\n",
       "        text-align: right;\n",
       "    }\n",
       "</style>\n",
       "<table border=\"1\" class=\"dataframe\">\n",
       "  <thead>\n",
       "    <tr style=\"text-align: right;\">\n",
       "      <th></th>\n",
       "      <th>ABV</th>\n",
       "      <th>FG</th>\n",
       "      <th>IBU</th>\n",
       "      <th>OG</th>\n",
       "      <th>SRM</th>\n",
       "      <th>Unnamed: 0</th>\n",
       "      <th>boil_time</th>\n",
       "      <th>boil_time_units</th>\n",
       "      <th>extras</th>\n",
       "      <th>fermentables</th>\n",
       "      <th>hops</th>\n",
       "      <th>link</th>\n",
       "      <th>meets_guidelines</th>\n",
       "      <th>name</th>\n",
       "      <th>style</th>\n",
       "      <th>volume</th>\n",
       "      <th>volume_units</th>\n",
       "      <th>yeast</th>\n",
       "    </tr>\n",
       "  </thead>\n",
       "  <tbody>\n",
       "    <tr>\n",
       "      <th>0</th>\n",
       "      <td>0.069</td>\n",
       "      <td>1.013</td>\n",
       "      <td>31.0</td>\n",
       "      <td>1.066</td>\n",
       "      <td>4.0</td>\n",
       "      <td>0</td>\n",
       "      <td>60.0</td>\n",
       "      <td>min</td>\n",
       "      <td>{0: {'amount': 1.0, 'amount_unit': 'oz', 'name...</td>\n",
       "      <td>{0: {'amount': 22.0, 'amount_unit': 'lb', 'nam...</td>\n",
       "      <td>{0: {'amount': 3.0, 'amount_unit': 'oz', 'name...</td>\n",
       "      <td>http://www.brewtoad.com/recipes/saison-sez-sean</td>\n",
       "      <td>0.0</td>\n",
       "      <td>Saison Sez Sean</td>\n",
       "      <td>Saison</td>\n",
       "      <td>13.00</td>\n",
       "      <td>gal</td>\n",
       "      <td>{0: {'name': '1.5\\n\\noz', 'yeast_lab': 'Wyeast...</td>\n",
       "    </tr>\n",
       "    <tr>\n",
       "      <th>1</th>\n",
       "      <td>0.062</td>\n",
       "      <td>1.016</td>\n",
       "      <td>59.0</td>\n",
       "      <td>1.063</td>\n",
       "      <td>28.0</td>\n",
       "      <td>1</td>\n",
       "      <td>60.0</td>\n",
       "      <td>min</td>\n",
       "      <td>0</td>\n",
       "      <td>{0: {'amount': 12.0, 'amount_unit': 'lb', 'nam...</td>\n",
       "      <td>{0: {'amount': 1.0, 'amount_unit': 'oz', 'name...</td>\n",
       "      <td>http://www.brewtoad.com/recipes/unkindness-of-...</td>\n",
       "      <td>0.0</td>\n",
       "      <td>Unkindness of Ravens</td>\n",
       "      <td>Baltic Porter</td>\n",
       "      <td>5.49</td>\n",
       "      <td>gal</td>\n",
       "      <td>{0: {'name': 'Dry English Ale Yeast', 'yeast_l...</td>\n",
       "    </tr>\n",
       "    <tr>\n",
       "      <th>2</th>\n",
       "      <td>0.086</td>\n",
       "      <td>1.020</td>\n",
       "      <td>71.0</td>\n",
       "      <td>1.086</td>\n",
       "      <td>13.0</td>\n",
       "      <td>2</td>\n",
       "      <td>60.0</td>\n",
       "      <td>min</td>\n",
       "      <td>0</td>\n",
       "      <td>{0: {'amount': 12.0, 'amount_unit': 'lb', 'nam...</td>\n",
       "      <td>{0: {'amount': 1.0, 'amount_unit': 'oz', 'name...</td>\n",
       "      <td>http://www.brewtoad.com/recipes/supposed-to-be...</td>\n",
       "      <td>0.0</td>\n",
       "      <td>Supposed to be IPA</td>\n",
       "      <td>American Amber Ale</td>\n",
       "      <td>5.00</td>\n",
       "      <td>gal</td>\n",
       "      <td>{0: {'name': \"Denny's Favorite 50\", 'yeast_lab...</td>\n",
       "    </tr>\n",
       "    <tr>\n",
       "      <th>3</th>\n",
       "      <td>0.091</td>\n",
       "      <td>1.031</td>\n",
       "      <td>26.0</td>\n",
       "      <td>1.100</td>\n",
       "      <td>39.0</td>\n",
       "      <td>3</td>\n",
       "      <td>60.0</td>\n",
       "      <td>min</td>\n",
       "      <td>{0: {'amount': 0.21875, 'amount_unit': 'gal', ...</td>\n",
       "      <td>{0: {'amount': 20.0, 'amount_unit': 'lb', 'nam...</td>\n",
       "      <td>{0: {'amount': 2.0, 'amount_unit': 'oz', 'name...</td>\n",
       "      <td>http://www.brewtoad.com/recipes/9-20-imperial-...</td>\n",
       "      <td>0.0</td>\n",
       "      <td>9/20 Imperial Porter</td>\n",
       "      <td>Robust Porter</td>\n",
       "      <td>10.00</td>\n",
       "      <td>gal</td>\n",
       "      <td>{0: {'name': 'Northwest Ale', 'yeast_lab': 'Wy...</td>\n",
       "    </tr>\n",
       "    <tr>\n",
       "      <th>4</th>\n",
       "      <td>0.074</td>\n",
       "      <td>1.021</td>\n",
       "      <td>31.0</td>\n",
       "      <td>1.077</td>\n",
       "      <td>18.0</td>\n",
       "      <td>4</td>\n",
       "      <td>60.0</td>\n",
       "      <td>min</td>\n",
       "      <td>0</td>\n",
       "      <td>{0: {'amount': 11.0, 'amount_unit': 'lb', 'nam...</td>\n",
       "      <td>{0: {'amount': 1.0, 'amount_unit': 'oz', 'name...</td>\n",
       "      <td>http://www.brewtoad.com/recipes/toasty-nut-brown</td>\n",
       "      <td>0.0</td>\n",
       "      <td>Toasty nut brown</td>\n",
       "      <td>Northern English Brown Ale</td>\n",
       "      <td>5.50</td>\n",
       "      <td>gal</td>\n",
       "      <td>{0: {'name': 'Safale S-04', 'yeast_lab': 'Ferm...</td>\n",
       "    </tr>\n",
       "  </tbody>\n",
       "</table>\n",
       "</div>"
      ],
      "text/plain": [
       "     ABV     FG   IBU     OG   SRM Unnamed: 0  boil_time boil_time_units  \\\n",
       "0  0.069  1.013  31.0  1.066   4.0          0       60.0             min   \n",
       "1  0.062  1.016  59.0  1.063  28.0          1       60.0             min   \n",
       "2  0.086  1.020  71.0  1.086  13.0          2       60.0             min   \n",
       "3  0.091  1.031  26.0  1.100  39.0          3       60.0             min   \n",
       "4  0.074  1.021  31.0  1.077  18.0          4       60.0             min   \n",
       "\n",
       "                                              extras  \\\n",
       "0  {0: {'amount': 1.0, 'amount_unit': 'oz', 'name...   \n",
       "1                                                  0   \n",
       "2                                                  0   \n",
       "3  {0: {'amount': 0.21875, 'amount_unit': 'gal', ...   \n",
       "4                                                  0   \n",
       "\n",
       "                                        fermentables  \\\n",
       "0  {0: {'amount': 22.0, 'amount_unit': 'lb', 'nam...   \n",
       "1  {0: {'amount': 12.0, 'amount_unit': 'lb', 'nam...   \n",
       "2  {0: {'amount': 12.0, 'amount_unit': 'lb', 'nam...   \n",
       "3  {0: {'amount': 20.0, 'amount_unit': 'lb', 'nam...   \n",
       "4  {0: {'amount': 11.0, 'amount_unit': 'lb', 'nam...   \n",
       "\n",
       "                                                hops  \\\n",
       "0  {0: {'amount': 3.0, 'amount_unit': 'oz', 'name...   \n",
       "1  {0: {'amount': 1.0, 'amount_unit': 'oz', 'name...   \n",
       "2  {0: {'amount': 1.0, 'amount_unit': 'oz', 'name...   \n",
       "3  {0: {'amount': 2.0, 'amount_unit': 'oz', 'name...   \n",
       "4  {0: {'amount': 1.0, 'amount_unit': 'oz', 'name...   \n",
       "\n",
       "                                                link  meets_guidelines  \\\n",
       "0    http://www.brewtoad.com/recipes/saison-sez-sean               0.0   \n",
       "1  http://www.brewtoad.com/recipes/unkindness-of-...               0.0   \n",
       "2  http://www.brewtoad.com/recipes/supposed-to-be...               0.0   \n",
       "3  http://www.brewtoad.com/recipes/9-20-imperial-...               0.0   \n",
       "4   http://www.brewtoad.com/recipes/toasty-nut-brown               0.0   \n",
       "\n",
       "                   name                       style  volume volume_units  \\\n",
       "0       Saison Sez Sean                      Saison   13.00          gal   \n",
       "1  Unkindness of Ravens               Baltic Porter    5.49          gal   \n",
       "2    Supposed to be IPA          American Amber Ale    5.00          gal   \n",
       "3  9/20 Imperial Porter               Robust Porter   10.00          gal   \n",
       "4      Toasty nut brown  Northern English Brown Ale    5.50          gal   \n",
       "\n",
       "                                               yeast  \n",
       "0  {0: {'name': '1.5\\n\\noz', 'yeast_lab': 'Wyeast...  \n",
       "1  {0: {'name': 'Dry English Ale Yeast', 'yeast_l...  \n",
       "2  {0: {'name': \"Denny's Favorite 50\", 'yeast_lab...  \n",
       "3  {0: {'name': 'Northwest Ale', 'yeast_lab': 'Wy...  \n",
       "4  {0: {'name': 'Safale S-04', 'yeast_lab': 'Ferm...  "
      ]
     },
     "execution_count": 8,
     "metadata": {},
     "output_type": "execute_result"
    }
   ],
   "source": [
    "df.head()"
   ]
  },
  {
   "cell_type": "code",
   "execution_count": 9,
   "metadata": {},
   "outputs": [],
   "source": [
    "# Drop redundant index column\n",
    "df.drop('Unnamed: 0', axis=1, inplace=True)"
   ]
  },
  {
   "cell_type": "code",
   "execution_count": 10,
   "metadata": {},
   "outputs": [
    {
     "data": {
      "text/html": [
       "<div>\n",
       "<style scoped>\n",
       "    .dataframe tbody tr th:only-of-type {\n",
       "        vertical-align: middle;\n",
       "    }\n",
       "\n",
       "    .dataframe tbody tr th {\n",
       "        vertical-align: top;\n",
       "    }\n",
       "\n",
       "    .dataframe thead th {\n",
       "        text-align: right;\n",
       "    }\n",
       "</style>\n",
       "<table border=\"1\" class=\"dataframe\">\n",
       "  <thead>\n",
       "    <tr style=\"text-align: right;\">\n",
       "      <th></th>\n",
       "      <th>ABV</th>\n",
       "      <th>FG</th>\n",
       "      <th>IBU</th>\n",
       "      <th>OG</th>\n",
       "      <th>SRM</th>\n",
       "      <th>boil_time</th>\n",
       "      <th>boil_time_units</th>\n",
       "      <th>extras</th>\n",
       "      <th>fermentables</th>\n",
       "      <th>hops</th>\n",
       "      <th>link</th>\n",
       "      <th>meets_guidelines</th>\n",
       "      <th>name</th>\n",
       "      <th>style</th>\n",
       "      <th>volume</th>\n",
       "      <th>volume_units</th>\n",
       "      <th>yeast</th>\n",
       "    </tr>\n",
       "  </thead>\n",
       "  <tbody>\n",
       "    <tr>\n",
       "      <th>0</th>\n",
       "      <td>0.069</td>\n",
       "      <td>1.013</td>\n",
       "      <td>31.0</td>\n",
       "      <td>1.066</td>\n",
       "      <td>4.0</td>\n",
       "      <td>60.0</td>\n",
       "      <td>min</td>\n",
       "      <td>{0: {'amount': 1.0, 'amount_unit': 'oz', 'name...</td>\n",
       "      <td>{0: {'amount': 22.0, 'amount_unit': 'lb', 'nam...</td>\n",
       "      <td>{0: {'amount': 3.0, 'amount_unit': 'oz', 'name...</td>\n",
       "      <td>http://www.brewtoad.com/recipes/saison-sez-sean</td>\n",
       "      <td>0.0</td>\n",
       "      <td>Saison Sez Sean</td>\n",
       "      <td>Saison</td>\n",
       "      <td>13.00</td>\n",
       "      <td>gal</td>\n",
       "      <td>{0: {'name': '1.5\\n\\noz', 'yeast_lab': 'Wyeast...</td>\n",
       "    </tr>\n",
       "    <tr>\n",
       "      <th>1</th>\n",
       "      <td>0.062</td>\n",
       "      <td>1.016</td>\n",
       "      <td>59.0</td>\n",
       "      <td>1.063</td>\n",
       "      <td>28.0</td>\n",
       "      <td>60.0</td>\n",
       "      <td>min</td>\n",
       "      <td>0</td>\n",
       "      <td>{0: {'amount': 12.0, 'amount_unit': 'lb', 'nam...</td>\n",
       "      <td>{0: {'amount': 1.0, 'amount_unit': 'oz', 'name...</td>\n",
       "      <td>http://www.brewtoad.com/recipes/unkindness-of-...</td>\n",
       "      <td>0.0</td>\n",
       "      <td>Unkindness of Ravens</td>\n",
       "      <td>Baltic Porter</td>\n",
       "      <td>5.49</td>\n",
       "      <td>gal</td>\n",
       "      <td>{0: {'name': 'Dry English Ale Yeast', 'yeast_l...</td>\n",
       "    </tr>\n",
       "    <tr>\n",
       "      <th>2</th>\n",
       "      <td>0.086</td>\n",
       "      <td>1.020</td>\n",
       "      <td>71.0</td>\n",
       "      <td>1.086</td>\n",
       "      <td>13.0</td>\n",
       "      <td>60.0</td>\n",
       "      <td>min</td>\n",
       "      <td>0</td>\n",
       "      <td>{0: {'amount': 12.0, 'amount_unit': 'lb', 'nam...</td>\n",
       "      <td>{0: {'amount': 1.0, 'amount_unit': 'oz', 'name...</td>\n",
       "      <td>http://www.brewtoad.com/recipes/supposed-to-be...</td>\n",
       "      <td>0.0</td>\n",
       "      <td>Supposed to be IPA</td>\n",
       "      <td>American Amber Ale</td>\n",
       "      <td>5.00</td>\n",
       "      <td>gal</td>\n",
       "      <td>{0: {'name': \"Denny's Favorite 50\", 'yeast_lab...</td>\n",
       "    </tr>\n",
       "    <tr>\n",
       "      <th>3</th>\n",
       "      <td>0.091</td>\n",
       "      <td>1.031</td>\n",
       "      <td>26.0</td>\n",
       "      <td>1.100</td>\n",
       "      <td>39.0</td>\n",
       "      <td>60.0</td>\n",
       "      <td>min</td>\n",
       "      <td>{0: {'amount': 0.21875, 'amount_unit': 'gal', ...</td>\n",
       "      <td>{0: {'amount': 20.0, 'amount_unit': 'lb', 'nam...</td>\n",
       "      <td>{0: {'amount': 2.0, 'amount_unit': 'oz', 'name...</td>\n",
       "      <td>http://www.brewtoad.com/recipes/9-20-imperial-...</td>\n",
       "      <td>0.0</td>\n",
       "      <td>9/20 Imperial Porter</td>\n",
       "      <td>Robust Porter</td>\n",
       "      <td>10.00</td>\n",
       "      <td>gal</td>\n",
       "      <td>{0: {'name': 'Northwest Ale', 'yeast_lab': 'Wy...</td>\n",
       "    </tr>\n",
       "    <tr>\n",
       "      <th>4</th>\n",
       "      <td>0.074</td>\n",
       "      <td>1.021</td>\n",
       "      <td>31.0</td>\n",
       "      <td>1.077</td>\n",
       "      <td>18.0</td>\n",
       "      <td>60.0</td>\n",
       "      <td>min</td>\n",
       "      <td>0</td>\n",
       "      <td>{0: {'amount': 11.0, 'amount_unit': 'lb', 'nam...</td>\n",
       "      <td>{0: {'amount': 1.0, 'amount_unit': 'oz', 'name...</td>\n",
       "      <td>http://www.brewtoad.com/recipes/toasty-nut-brown</td>\n",
       "      <td>0.0</td>\n",
       "      <td>Toasty nut brown</td>\n",
       "      <td>Northern English Brown Ale</td>\n",
       "      <td>5.50</td>\n",
       "      <td>gal</td>\n",
       "      <td>{0: {'name': 'Safale S-04', 'yeast_lab': 'Ferm...</td>\n",
       "    </tr>\n",
       "  </tbody>\n",
       "</table>\n",
       "</div>"
      ],
      "text/plain": [
       "     ABV     FG   IBU     OG   SRM  boil_time boil_time_units  \\\n",
       "0  0.069  1.013  31.0  1.066   4.0       60.0             min   \n",
       "1  0.062  1.016  59.0  1.063  28.0       60.0             min   \n",
       "2  0.086  1.020  71.0  1.086  13.0       60.0             min   \n",
       "3  0.091  1.031  26.0  1.100  39.0       60.0             min   \n",
       "4  0.074  1.021  31.0  1.077  18.0       60.0             min   \n",
       "\n",
       "                                              extras  \\\n",
       "0  {0: {'amount': 1.0, 'amount_unit': 'oz', 'name...   \n",
       "1                                                  0   \n",
       "2                                                  0   \n",
       "3  {0: {'amount': 0.21875, 'amount_unit': 'gal', ...   \n",
       "4                                                  0   \n",
       "\n",
       "                                        fermentables  \\\n",
       "0  {0: {'amount': 22.0, 'amount_unit': 'lb', 'nam...   \n",
       "1  {0: {'amount': 12.0, 'amount_unit': 'lb', 'nam...   \n",
       "2  {0: {'amount': 12.0, 'amount_unit': 'lb', 'nam...   \n",
       "3  {0: {'amount': 20.0, 'amount_unit': 'lb', 'nam...   \n",
       "4  {0: {'amount': 11.0, 'amount_unit': 'lb', 'nam...   \n",
       "\n",
       "                                                hops  \\\n",
       "0  {0: {'amount': 3.0, 'amount_unit': 'oz', 'name...   \n",
       "1  {0: {'amount': 1.0, 'amount_unit': 'oz', 'name...   \n",
       "2  {0: {'amount': 1.0, 'amount_unit': 'oz', 'name...   \n",
       "3  {0: {'amount': 2.0, 'amount_unit': 'oz', 'name...   \n",
       "4  {0: {'amount': 1.0, 'amount_unit': 'oz', 'name...   \n",
       "\n",
       "                                                link  meets_guidelines  \\\n",
       "0    http://www.brewtoad.com/recipes/saison-sez-sean               0.0   \n",
       "1  http://www.brewtoad.com/recipes/unkindness-of-...               0.0   \n",
       "2  http://www.brewtoad.com/recipes/supposed-to-be...               0.0   \n",
       "3  http://www.brewtoad.com/recipes/9-20-imperial-...               0.0   \n",
       "4   http://www.brewtoad.com/recipes/toasty-nut-brown               0.0   \n",
       "\n",
       "                   name                       style  volume volume_units  \\\n",
       "0       Saison Sez Sean                      Saison   13.00          gal   \n",
       "1  Unkindness of Ravens               Baltic Porter    5.49          gal   \n",
       "2    Supposed to be IPA          American Amber Ale    5.00          gal   \n",
       "3  9/20 Imperial Porter               Robust Porter   10.00          gal   \n",
       "4      Toasty nut brown  Northern English Brown Ale    5.50          gal   \n",
       "\n",
       "                                               yeast  \n",
       "0  {0: {'name': '1.5\\n\\noz', 'yeast_lab': 'Wyeast...  \n",
       "1  {0: {'name': 'Dry English Ale Yeast', 'yeast_l...  \n",
       "2  {0: {'name': \"Denny's Favorite 50\", 'yeast_lab...  \n",
       "3  {0: {'name': 'Northwest Ale', 'yeast_lab': 'Wy...  \n",
       "4  {0: {'name': 'Safale S-04', 'yeast_lab': 'Ferm...  "
      ]
     },
     "execution_count": 10,
     "metadata": {},
     "output_type": "execute_result"
    }
   ],
   "source": [
    "# Check to make sure that it dropped\n",
    "df.head()"
   ]
  },
  {
   "cell_type": "code",
   "execution_count": 11,
   "metadata": {},
   "outputs": [
    {
     "data": {
      "text/plain": [
       "(88544, 17)"
      ]
     },
     "execution_count": 11,
     "metadata": {},
     "output_type": "execute_result"
    }
   ],
   "source": [
    "# Find number of recipes collected\n",
    "df.shape"
   ]
  },
  {
   "cell_type": "code",
   "execution_count": 14,
   "metadata": {},
   "outputs": [
    {
     "data": {
      "text/plain": [
       "ABV                 0\n",
       "FG                  0\n",
       "IBU                 0\n",
       "OG                  0\n",
       "SRM                 0\n",
       "boil_time           0\n",
       "extras              0\n",
       "fermentables        0\n",
       "hops                0\n",
       "link                0\n",
       "meets_guidelines    0\n",
       "name                0\n",
       "style               0\n",
       "volume              0\n",
       "volume_units        0\n",
       "yeast               0\n",
       "dtype: int64"
      ]
     },
     "execution_count": 14,
     "metadata": {},
     "output_type": "execute_result"
    }
   ],
   "source": [
    "df.isnull().sum()"
   ]
  },
  {
   "cell_type": "code",
   "execution_count": 12,
   "metadata": {},
   "outputs": [
    {
     "data": {
      "text/plain": [
       "min    88544\n",
       "Name: boil_time_units, dtype: int64"
      ]
     },
     "execution_count": 12,
     "metadata": {},
     "output_type": "execute_result"
    }
   ],
   "source": [
    "# Check which units were used for the boiling time\n",
    "df['boil_time_units'].value_counts()"
   ]
  },
  {
   "cell_type": "markdown",
   "metadata": {},
   "source": [
    "All beers used minutes for the unit of time in the boil, so I can drop this column as it does not contain any useful information"
   ]
  },
  {
   "cell_type": "code",
   "execution_count": 13,
   "metadata": {},
   "outputs": [],
   "source": [
    "# Drop boiling time units column\n",
    "df.drop('boil_time_units', axis=1, inplace=True)"
   ]
  },
  {
   "cell_type": "markdown",
   "metadata": {},
   "source": [
    "---"
   ]
  },
  {
   "cell_type": "markdown",
   "metadata": {},
   "source": [
    "## Volume Conversion"
   ]
  },
  {
   "cell_type": "code",
   "execution_count": 15,
   "metadata": {
    "scrolled": false
   },
   "outputs": [
    {
     "data": {
      "text/plain": [
       "gal    77775\n",
       "L      10769\n",
       "Name: volume_units, dtype: int64"
      ]
     },
     "execution_count": 15,
     "metadata": {},
     "output_type": "execute_result"
    }
   ],
   "source": [
    "df['volume_units'].value_counts()"
   ]
  },
  {
   "cell_type": "code",
   "execution_count": 16,
   "metadata": {},
   "outputs": [],
   "source": [
    "# Write function to change L to gallons\n",
    "def liter_to_gal(row):\n",
    "    # Look for where the units are liters\n",
    "    if row['volume_units'] == 'L':\n",
    "        # 1 Liter = 0.2641720524 gallons, multiply by this conversion factor\n",
    "        return round(row['volume'] * 0.2641720524, 2)\n",
    "    return round(row['volume'], 2)"
   ]
  },
  {
   "cell_type": "code",
   "execution_count": 17,
   "metadata": {},
   "outputs": [],
   "source": [
    "# Convert all volume measurements\n",
    "df['volume'] = df.apply(liter_to_gal, axis=1)"
   ]
  },
  {
   "cell_type": "markdown",
   "metadata": {},
   "source": [
    "Now that all volume units have been converted, I can drop the volume units column as it no longer contains helpful information"
   ]
  },
  {
   "cell_type": "code",
   "execution_count": 18,
   "metadata": {},
   "outputs": [],
   "source": [
    "df.drop('volume_units', axis=1, inplace=True)"
   ]
  },
  {
   "cell_type": "markdown",
   "metadata": {},
   "source": [
    "---"
   ]
  },
  {
   "cell_type": "markdown",
   "metadata": {},
   "source": [
    "## Drop any Recipe with '--deleted ingredient--' or Missing Section"
   ]
  },
  {
   "cell_type": "markdown",
   "metadata": {},
   "source": [
    "When I saved the dataframes my web scraper created as a .csv file, it changed the dictionary values for the hops and the grains to be strings. I will convert these strings back to dictionaries below"
   ]
  },
  {
   "cell_type": "code",
   "execution_count": 19,
   "metadata": {},
   "outputs": [],
   "source": [
    "import ast\n",
    "\n",
    "dict_cols = ['fermentables', 'hops', 'yeast', 'extras']\n",
    "for col in dict_cols:\n",
    "    df[col] = df[col].map(ast.literal_eval)"
   ]
  },
  {
   "cell_type": "code",
   "execution_count": 20,
   "metadata": {},
   "outputs": [],
   "source": [
    "for i in df.index:\n",
    "    finished = False\n",
    "    g = df.loc[i, 'fermentables']\n",
    "    for j in g.values():\n",
    "        if j['name'] == '--deleted ingredient--':\n",
    "            df.drop(i, axis=0, inplace=True)\n",
    "            finished=True\n",
    "            break\n",
    "    if finished:\n",
    "        continue\n",
    "    h = df.loc[i, 'hops']\n",
    "    for j in g.values():\n",
    "        if j['name'] == '--deleted ingredient--':\n",
    "            df.drop(i, axis=0, inplace=True)\n",
    "            finished=True\n",
    "            break\n",
    "    if finished:\n",
    "        continue\n",
    "    y = df.loc[i, 'yeast']\n",
    "    for j in g.values():\n",
    "        if j['name'] == '--deleted ingredient--':\n",
    "            df.drop(i, axis=0, inplace=True)\n",
    "            finished=True\n",
    "            break\n",
    "    if finished:\n",
    "        continue\n",
    "    e = df.loc[i, 'extras']\n",
    "    if e == 0:\n",
    "        continue\n",
    "    for j in g.values():\n",
    "        if j['name'] == '--deleted ingredient--':\n",
    "            df.drop(i, axis=0, inplace=True)\n",
    "            break"
   ]
  },
  {
   "cell_type": "code",
   "execution_count": 21,
   "metadata": {},
   "outputs": [],
   "source": [
    "for i in df.index:\n",
    "    if len(df.loc[i, 'fermentables']) == 0 or len(df.loc[i, 'hops']) == 0 or len(df.loc[i, 'yeast']) == 0:\n",
    "        df.drop(i, axis=0, inplace=True)"
   ]
  },
  {
   "cell_type": "code",
   "execution_count": 22,
   "metadata": {},
   "outputs": [
    {
     "data": {
      "text/plain": [
       "(88160, 15)"
      ]
     },
     "execution_count": 22,
     "metadata": {},
     "output_type": "execute_result"
    }
   ],
   "source": [
    "df.shape"
   ]
  },
  {
   "cell_type": "markdown",
   "metadata": {},
   "source": [
    "## Drop Grains, Hops, Yeasts, and Extras that occur fewer than 5 times"
   ]
  },
  {
   "cell_type": "markdown",
   "metadata": {},
   "source": [
    "### Grains\n",
    "First I'll make a dataframe of all of the grains and find the unique names."
   ]
  },
  {
   "cell_type": "code",
   "execution_count": 23,
   "metadata": {},
   "outputs": [],
   "source": [
    "grain_list = []\n",
    "for i in df.loc[:, 'fermentables'].values:\n",
    "    for j in i.values():\n",
    "        temp = j.copy()\n",
    "        del temp['amount']\n",
    "        del temp['amount_unit']\n",
    "        del temp['use']\n",
    "        del temp['color_unit']\n",
    "        if temp not in grain_list:\n",
    "            grain_list.append(temp)\n",
    "grain_df = pd.DataFrame(grain_list)"
   ]
  },
  {
   "cell_type": "code",
   "execution_count": 24,
   "metadata": {},
   "outputs": [
    {
     "data": {
      "text/plain": [
       "1086"
      ]
     },
     "execution_count": 24,
     "metadata": {},
     "output_type": "execute_result"
    }
   ],
   "source": [
    "# Set up a counter dictionary\n",
    "grain_count = {g:0 for g in grain_df['name'].unique()}\n",
    "\n",
    "# Iterate through all recipes and add counts to count dictionary\n",
    "for i in df.index:\n",
    "    d = df.loc[i, 'fermentables']\n",
    "    for j in d.values():\n",
    "        grain_count[j['name']] += 1\n",
    "\n",
    "# Create a list of grains that occur fewer than 5 times to drop\n",
    "grains_to_drop = []\n",
    "for key, value in grain_count.items():\n",
    "    if value <= 5:\n",
    "        grains_to_drop.append(key)\n",
    "len(grains_to_drop)"
   ]
  },
  {
   "cell_type": "code",
   "execution_count": 25,
   "metadata": {},
   "outputs": [
    {
     "data": {
      "text/plain": [
       "(86735, 15)"
      ]
     },
     "execution_count": 25,
     "metadata": {},
     "output_type": "execute_result"
    }
   ],
   "source": [
    "# Make list of grains to drop into a set for faster membership lookup\n",
    "grains_to_drop = set(grains_to_drop)\n",
    "\n",
    "# Iterate through all rows\n",
    "for i in df.index:\n",
    "    d = df.loc[i, 'fermentables']\n",
    "    for j in d.values():\n",
    "        # If any of the grains are in the drop set\n",
    "        if j['name'] in grains_to_drop:\n",
    "            # Drop the row from the dataframe\n",
    "            df.drop(i, axis=0, inplace=True)\n",
    "            # Break out of the foor loop to go to next row\n",
    "            break\n",
    "\n",
    "# Check shape to see how many recipes remain\n",
    "df.shape"
   ]
  },
  {
   "cell_type": "markdown",
   "metadata": {},
   "source": [
    "### Hops\n",
    "Repeat the same process as above with the hops instead of the grains"
   ]
  },
  {
   "cell_type": "code",
   "execution_count": 26,
   "metadata": {},
   "outputs": [
    {
     "data": {
      "text/plain": [
       "(85592, 15)"
      ]
     },
     "execution_count": 26,
     "metadata": {},
     "output_type": "execute_result"
    }
   ],
   "source": [
    "# Create an empty list\n",
    "hop_list = []\n",
    "\n",
    "# Iterate through all rows\n",
    "for i in df.loc[:, 'hops'].values:\n",
    "    # Iterate through all entries in hop dictionary\n",
    "    for j in i.values():\n",
    "        temp = j.copy()\n",
    "        # Remove unnecessary columns\n",
    "        del temp['amount']\n",
    "        del temp['amount_unit']\n",
    "        del temp['time']\n",
    "        del temp['use']\n",
    "        # If the hop is not a duplicate, add it to the list\n",
    "        if temp not in hop_list:\n",
    "            hop_list.append(temp)\n",
    "\n",
    "# Make a dataframe from the list of dictionaries\n",
    "hops = pd.DataFrame(hop_list)\n",
    "\n",
    "# Create counter dictionary of hops\n",
    "hop_count = {h:0 for h in hops['name'].unique()}\n",
    "\n",
    "# Iterate through all rows\n",
    "for i in df.index:\n",
    "    d = df.loc[i, 'hops']\n",
    "    # Iterate through all entries in hop dictionary\n",
    "    for j in d.values():\n",
    "        # Increase approrpriate counter\n",
    "        hop_count[j['name']] += 1\n",
    "\n",
    "# Create empty list of hops to drop\n",
    "hops_to_drop = []\n",
    "\n",
    "# Iterate through counter dictionary\n",
    "for key, value in hop_count.items():\n",
    "    # If there are fewer than 5 instances of a hop, add it to the drop list\n",
    "    if value <= 5:\n",
    "        hops_to_drop.append(key)\n",
    "hops_to_drop = set(hops_to_drop)\n",
    "\n",
    "# Iterate through all rows\n",
    "for i in df.index:\n",
    "    d = df.loc[i, 'hops']\n",
    "    # Iterate through all entries in hops dictionary\n",
    "    for j in d.values():\n",
    "        # If hop is in drop list\n",
    "        if j['name'] in hops_to_drop:\n",
    "            # Drop the row from the dataframe\n",
    "            df.drop(i, axis=0, inplace=True)\n",
    "            # Break out of for loop to check next row\n",
    "            break\n",
    "    \n",
    "# Print shape of df to check how many recipes remain\n",
    "df.shape"
   ]
  },
  {
   "cell_type": "markdown",
   "metadata": {},
   "source": [
    "### Yeasts"
   ]
  },
  {
   "cell_type": "code",
   "execution_count": 27,
   "metadata": {},
   "outputs": [
    {
     "data": {
      "text/plain": [
       "(84695, 15)"
      ]
     },
     "execution_count": 27,
     "metadata": {},
     "output_type": "execute_result"
    }
   ],
   "source": [
    "# Create an empty list\n",
    "yeast_list = []\n",
    "\n",
    "# Iterate through all rows\n",
    "for i in df.loc[:, 'yeast'].values:\n",
    "    # Iterate through all entries in yeast dictionary\n",
    "    for j in i.values():\n",
    "        # If the yeast is not a duplicate, add it to the list\n",
    "        if j not in yeast_list:\n",
    "            yeast_list.append(j)\n",
    "\n",
    "# Make a dataframe from the list of dictionaries\n",
    "yeasts = pd.DataFrame(yeast_list)\n",
    "\n",
    "# Create counter dictionary of yeasts\n",
    "yeast_count = {y:0 for y in yeasts['name'].unique()}\n",
    "\n",
    "# Iterate through all rows\n",
    "for i in df.index:\n",
    "    d = df.loc[i, 'yeast']\n",
    "    # Iterate through all entries in hop dictionary\n",
    "    for j in d.values():\n",
    "        # Increase approrpriate counter\n",
    "        yeast_count[j['name']] += 1\n",
    "\n",
    "# Create empty list of yeasts to drop\n",
    "yeasts_to_drop = []\n",
    "\n",
    "# Iterate through counter dictionary\n",
    "for key, value in yeast_count.items():\n",
    "    \n",
    "    # If there are fewer than 5 instances of a yeast, add it to the drop list\n",
    "    if value <= 5:\n",
    "        yeasts_to_drop.append(key)\n",
    "yeasts_to_drop = set(yeasts_to_drop)\n",
    "\n",
    "# Iterate through all rows\n",
    "for i in df.index:\n",
    "    d = df.loc[i, 'yeast']\n",
    "    # Iterate through all entries in yeasts dictionary\n",
    "    for j in d.values():\n",
    "        # If yeast is in drop list\n",
    "        if j['name'] in yeasts_to_drop:\n",
    "            # Drop the row from the dataframe\n",
    "            df.drop(i, axis=0, inplace=True)\n",
    "            # Break out of for loop to check next row\n",
    "            break\n",
    "    \n",
    "# Print shape of df to check how many recipes remain\n",
    "df.shape"
   ]
  },
  {
   "cell_type": "markdown",
   "metadata": {},
   "source": [
    "### Extras\n",
    "Repeat final process for extras"
   ]
  },
  {
   "cell_type": "code",
   "execution_count": 28,
   "metadata": {},
   "outputs": [
    {
     "data": {
      "text/plain": [
       "(84399, 15)"
      ]
     },
     "execution_count": 28,
     "metadata": {},
     "output_type": "execute_result"
    }
   ],
   "source": [
    "# Create an empty list\n",
    "extras_list = []\n",
    "\n",
    "# Iterate through all rows\n",
    "for i in df.loc[:, 'extras'].values:\n",
    "    # Continue if there are no extras\n",
    "    if i == 0:\n",
    "        continue\n",
    "    # Iterate through all entries in extras dictionary\n",
    "    for j in i.values():\n",
    "        temp = j.copy()\n",
    "        # Remove unnecessary columns\n",
    "        del temp['amount']\n",
    "        del temp['amount_unit']\n",
    "        del temp['time']\n",
    "        # If the extra is not a duplicate, add it to the list\n",
    "        if temp not in extras_list:\n",
    "            extras_list.append(temp)\n",
    "\n",
    "# Make a dataframe from the list of dictionaries\n",
    "extras = pd.DataFrame(extras_list)\n",
    "\n",
    "# Create counter dictionary of extras\n",
    "extras_count = {e:0 for e in extras['name'].unique()}\n",
    "\n",
    "# Iterate through all rows\n",
    "for i in df.index:\n",
    "    d = df.loc[i, 'extras']\n",
    "    if d == 0:\n",
    "        continue\n",
    "    # Iterate through all entries in hop dictionary\n",
    "    for j in d.values():\n",
    "        # Increase approrpriate counter\n",
    "        extras_count[j['name']] += 1\n",
    "\n",
    "# Create empty list of extras to drop\n",
    "extras_to_drop = []\n",
    "\n",
    "# Iterate through counter dictionary\n",
    "for key, value in extras_count.items():\n",
    "    \n",
    "    # If there are fewer than 5 instances of an extra, add it to the drop list\n",
    "    if value <= 5:\n",
    "        extras_to_drop.append(key)\n",
    "extras_to_drop = set(extras_to_drop)\n",
    "\n",
    "# Iterate through all rows\n",
    "for i in df.index:\n",
    "    d = df.loc[i, 'yeast']\n",
    "    if d == 0:\n",
    "        continue\n",
    "    # Iterate through all entries in yeasts dictionary\n",
    "    for j in d.values():\n",
    "        # If extra is in drop list\n",
    "        if j['name'] in extras_to_drop:\n",
    "            # Drop the row from the dataframe\n",
    "            df.drop(i, axis=0, inplace=True)\n",
    "            # Break out of for loop to check next row\n",
    "            break\n",
    "    \n",
    "# Print shape of df to check how many recipes remain\n",
    "df.shape"
   ]
  },
  {
   "cell_type": "markdown",
   "metadata": {},
   "source": [
    "## Clean Grain Data"
   ]
  },
  {
   "cell_type": "markdown",
   "metadata": {},
   "source": [
    "I want to make sure that all recipes I'm using are all-grain recipes. I'll check if there are any recipes that contain dry or liquid malt extract below and if necessary, drop those recipes from the data set."
   ]
  },
  {
   "cell_type": "code",
   "execution_count": 29,
   "metadata": {},
   "outputs": [
    {
     "data": {
      "text/plain": [
       "['Breiss Dark LME',\n",
       " 'Dark LME',\n",
       " 'Black Rock Light LME (NZ)',\n",
       " 'Mountmellick Light LME',\n",
       " 'Northern Brewer Munich LME',\n",
       " 'Sparkling Amber LME',\n",
       " 'Wheat LME',\n",
       " 'Amber Unhopped LME',\n",
       " 'LME',\n",
       " 'Amber LME',\n",
       " 'Maris Otter LME',\n",
       " \"Munton's Dark LME\",\n",
       " 'Coopers Dark LME',\n",
       " 'Extra Light LME',\n",
       " 'Munton Amber LME',\n",
       " 'CBW Pilsen Light LME',\n",
       " 'Gold LME',\n",
       " 'Muntons Pilsen Light LME',\n",
       " 'Organic LME',\n",
       " 'Coopers Light LME']"
      ]
     },
     "execution_count": 29,
     "metadata": {},
     "output_type": "execute_result"
    }
   ],
   "source": [
    "[g for g in grain_df['name'].unique() if 'LME' in g]"
   ]
  },
  {
   "cell_type": "code",
   "execution_count": 30,
   "metadata": {},
   "outputs": [
    {
     "data": {
      "text/plain": [
       "['Sparkling Amber DME',\n",
       " 'Coopers Plain Light DME',\n",
       " 'Pilsen DME',\n",
       " 'Extra Dark DME',\n",
       " 'Plain Dark DME',\n",
       " 'DME Gold',\n",
       " 'Traditional Dark DME',\n",
       " 'Plain Light DME',\n",
       " 'Muntons Extra Light DME',\n",
       " 'Pilsner DME',\n",
       " 'Amber DME',\n",
       " 'Plain Extra Light DME',\n",
       " 'Plain Wheat DME',\n",
       " 'Plain Amber DME',\n",
       " 'Wheat DME',\n",
       " 'Dark DME']"
      ]
     },
     "execution_count": 30,
     "metadata": {},
     "output_type": "execute_result"
    }
   ],
   "source": [
    "[g for g in grain_df['name'].unique() if 'DME' in g]"
   ]
  },
  {
   "cell_type": "code",
   "execution_count": 31,
   "metadata": {},
   "outputs": [
    {
     "data": {
      "text/plain": [
       "['Dry Malt Extract - Extra Light',\n",
       " 'Liquid Malt Extract - Light',\n",
       " 'Dry Malt Extract - Light',\n",
       " 'Dry Malt Extract - Pilsen',\n",
       " 'Liquid Malt Extract - Extra Light',\n",
       " 'Sorghum Liquid Malt Extract',\n",
       " 'Liquid Malt Extract - Pilsen',\n",
       " 'Liquid Malt Extract - Amber',\n",
       " 'Coopers Amber malt extract',\n",
       " 'ME15-Pale Malt Extract',\n",
       " 'Dry Malt Extract - Wheat',\n",
       " 'X-Light Dry Malt Extract',\n",
       " 'Liquid Malt Extract - Wheat',\n",
       " 'Liquid Malt Extract - Maris Otter',\n",
       " 'Liquid Malt Extract - Munich',\n",
       " 'Dry Malt Extract - Maris Otter',\n",
       " 'Liquid Malt Extract - Pale',\n",
       " 'Dry Malt Extract - Amber',\n",
       " 'Dry Malt Extract - Dark',\n",
       " 'Dry Malt Extract - Pale\\t',\n",
       " 'Dry Malt Extract - Munich',\n",
       " 'Liquid Malt Extract - Dark',\n",
       " 'Maris Otter Malt Extract',\n",
       " \"Munton's Amber Malt Extract\",\n",
       " 'Liquid Malt Extract - Rye',\n",
       " 'Munich Liquid Malt Extract',\n",
       " 'Pilsner Malt Extract',\n",
       " 'German Pils Liquid Malt Extract']"
      ]
     },
     "execution_count": 31,
     "metadata": {},
     "output_type": "execute_result"
    }
   ],
   "source": [
    "[g for g in grain_df['name'].unique() if 'malt extract' in g.lower()]"
   ]
  },
  {
   "cell_type": "markdown",
   "metadata": {},
   "source": [
    "There are multiple instances of recipes with dry and liquid malt extract, so I will drop those in the cells below. Before doing so, I'll first make everything lowercase to ensure that I don't miss any examples due to case differences. I'm also going to drop any recipes with home made ingredients, as I don't know if the information uploaded on the measurements of these ingredients will be accurate. In my own homebrewing experience, the equipment needed to accurately measure PPG and color is expensive, and I believe it unlikely that all people using homemade ingredients will be able to afford this equipment. Since I cannot tell which homemade ingredients are accurately measured and which are not, I'll discard all of them to be safe"
   ]
  },
  {
   "cell_type": "code",
   "execution_count": 32,
   "metadata": {},
   "outputs": [],
   "source": [
    "for i in df.index:\n",
    "    d = df.loc[i, 'fermentables'].values()\n",
    "    for j in d:\n",
    "        if 'lme' in j['name'].lower() or 'dme' in j['name'].lower() or 'malt extract' in j['name'].lower():\n",
    "            df.drop(i, axis=0, inplace=True)\n",
    "            break\n",
    "        if 'kit' in j['name'].lower() or 'liquid extract' in j['name'].lower() or 'dry extract' in j['name'].lower():\n",
    "            df.drop(i, axis=0, inplace=True)\n",
    "            break\n",
    "        if 'wheat extract' in j['name'].lower() or 'light extract' in j['name'].lower():\n",
    "            df.drop(i, axis=0, inplace=True)\n",
    "            break\n",
    "        if 'homemade' in j['name'].lower() or 'home made' in j['name'].lower() or 'home toasted' in j['name'].lower():\n",
    "            df.drop(i, axis=0, inplace=True)\n",
    "            break\n",
    "        if '--deleted ingredient--' in j['name'].lower():\n",
    "            df.drop(i, axis=0, inplace=True)\n",
    "            break"
   ]
  },
  {
   "cell_type": "code",
   "execution_count": 33,
   "metadata": {},
   "outputs": [
    {
     "data": {
      "text/plain": [
       "(82907, 15)"
      ]
     },
     "execution_count": 33,
     "metadata": {},
     "output_type": "execute_result"
    }
   ],
   "source": [
    "# Check how many recipes remain\n",
    "df.shape"
   ]
  },
  {
   "cell_type": "markdown",
   "metadata": {},
   "source": [
    "Now I'll do some quick EDA on the remaining grains to see what they look like."
   ]
  },
  {
   "cell_type": "code",
   "execution_count": 34,
   "metadata": {
    "scrolled": false
   },
   "outputs": [
    {
     "data": {
      "image/png": "[encoded data removed]",
      "text/plain": [
       "<Figure size 432x288 with 1 Axes>"
      ]
     },
     "metadata": {},
     "output_type": "display_data"
    }
   ],
   "source": [
    "plt.hist(grain_df['PPG']);"
   ]
  },
  {
   "cell_type": "code",
   "execution_count": 35,
   "metadata": {},
   "outputs": [
    {
     "data": {
      "image/png": "[encoded data removed]",
      "text/plain": [
       "<Figure size 432x288 with 1 Axes>"
      ]
     },
     "metadata": {},
     "output_type": "display_data"
    }
   ],
   "source": [
    "plt.hist(grain_df['color']);"
   ]
  },
  {
   "cell_type": "code",
   "execution_count": 36,
   "metadata": {
    "scrolled": true
   },
   "outputs": [
    {
     "data": {
      "text/html": [
       "<div>\n",
       "<style scoped>\n",
       "    .dataframe tbody tr th:only-of-type {\n",
       "        vertical-align: middle;\n",
       "    }\n",
       "\n",
       "    .dataframe tbody tr th {\n",
       "        vertical-align: top;\n",
       "    }\n",
       "\n",
       "    .dataframe thead th {\n",
       "        text-align: right;\n",
       "    }\n",
       "</style>\n",
       "<table border=\"1\" class=\"dataframe\">\n",
       "  <thead>\n",
       "    <tr style=\"text-align: right;\">\n",
       "      <th></th>\n",
       "      <th>PPG</th>\n",
       "      <th>color</th>\n",
       "    </tr>\n",
       "  </thead>\n",
       "  <tbody>\n",
       "    <tr>\n",
       "      <th>count</th>\n",
       "      <td>5715.000000</td>\n",
       "      <td>5715.000000</td>\n",
       "    </tr>\n",
       "    <tr>\n",
       "      <th>mean</th>\n",
       "      <td>33.614523</td>\n",
       "      <td>85.132808</td>\n",
       "    </tr>\n",
       "    <tr>\n",
       "      <th>std</th>\n",
       "      <td>7.053595</td>\n",
       "      <td>171.564811</td>\n",
       "    </tr>\n",
       "    <tr>\n",
       "      <th>min</th>\n",
       "      <td>0.000000</td>\n",
       "      <td>0.000000</td>\n",
       "    </tr>\n",
       "    <tr>\n",
       "      <th>25%</th>\n",
       "      <td>33.000000</td>\n",
       "      <td>3.000000</td>\n",
       "    </tr>\n",
       "    <tr>\n",
       "      <th>50%</th>\n",
       "      <td>34.000000</td>\n",
       "      <td>10.000000</td>\n",
       "    </tr>\n",
       "    <tr>\n",
       "      <th>75%</th>\n",
       "      <td>37.000000</td>\n",
       "      <td>66.000000</td>\n",
       "    </tr>\n",
       "    <tr>\n",
       "      <th>max</th>\n",
       "      <td>100.000000</td>\n",
       "      <td>3500.000000</td>\n",
       "    </tr>\n",
       "  </tbody>\n",
       "</table>\n",
       "</div>"
      ],
      "text/plain": [
       "               PPG        color\n",
       "count  5715.000000  5715.000000\n",
       "mean     33.614523    85.132808\n",
       "std       7.053595   171.564811\n",
       "min       0.000000     0.000000\n",
       "25%      33.000000     3.000000\n",
       "50%      34.000000    10.000000\n",
       "75%      37.000000    66.000000\n",
       "max     100.000000  3500.000000"
      ]
     },
     "execution_count": 36,
     "metadata": {},
     "output_type": "execute_result"
    }
   ],
   "source": [
    "grain_df.describe()"
   ]
  },
  {
   "cell_type": "markdown",
   "metadata": {},
   "source": [
    "It looks like there are some values that don't make sense. Degrees lovibond should not be over 800, so all values above that should be dropped. PPG measures how much of an increase in specific gravity one would expect to see if one pound of the fermentable was added to 1 gallon of water. Therefore, PPG cannot be negative. Additionally, the PPG of dextrose is 46, which is the highest value of any fermentable that I know of. Anything beyond this value would not make sense. I'll find these values below and make sure the recipes with those specific grains get dropped."
   ]
  },
  {
   "cell_type": "code",
   "execution_count": 37,
   "metadata": {},
   "outputs": [
    {
     "data": {
      "text/html": [
       "<div>\n",
       "<style scoped>\n",
       "    .dataframe tbody tr th:only-of-type {\n",
       "        vertical-align: middle;\n",
       "    }\n",
       "\n",
       "    .dataframe tbody tr th {\n",
       "        vertical-align: top;\n",
       "    }\n",
       "\n",
       "    .dataframe thead th {\n",
       "        text-align: right;\n",
       "    }\n",
       "</style>\n",
       "<table border=\"1\" class=\"dataframe\">\n",
       "  <thead>\n",
       "    <tr style=\"text-align: right;\">\n",
       "      <th></th>\n",
       "      <th>PPG</th>\n",
       "      <th>color</th>\n",
       "      <th>generic</th>\n",
       "      <th>maltster</th>\n",
       "      <th>name</th>\n",
       "    </tr>\n",
       "  </thead>\n",
       "  <tbody>\n",
       "    <tr>\n",
       "      <th>214</th>\n",
       "      <td>30</td>\n",
       "      <td>850</td>\n",
       "      <td>False</td>\n",
       "      <td>Any</td>\n",
       "      <td>Carafa II</td>\n",
       "    </tr>\n",
       "    <tr>\n",
       "      <th>1011</th>\n",
       "      <td>27</td>\n",
       "      <td>1400</td>\n",
       "      <td>False</td>\n",
       "      <td>Any</td>\n",
       "      <td>Black Malt</td>\n",
       "    </tr>\n",
       "    <tr>\n",
       "      <th>2130</th>\n",
       "      <td>35</td>\n",
       "      <td>2320</td>\n",
       "      <td>True</td>\n",
       "      <td>Dingemans</td>\n",
       "      <td>Biscuit (BE)</td>\n",
       "    </tr>\n",
       "    <tr>\n",
       "      <th>2152</th>\n",
       "      <td>28</td>\n",
       "      <td>1400</td>\n",
       "      <td>True</td>\n",
       "      <td>Any</td>\n",
       "      <td>Black Malt (UK)</td>\n",
       "    </tr>\n",
       "    <tr>\n",
       "      <th>2230</th>\n",
       "      <td>34</td>\n",
       "      <td>900</td>\n",
       "      <td>True</td>\n",
       "      <td>Dingemans</td>\n",
       "      <td>Chocolate (BE)</td>\n",
       "    </tr>\n",
       "    <tr>\n",
       "      <th>2269</th>\n",
       "      <td>1</td>\n",
       "      <td>3120</td>\n",
       "      <td>False</td>\n",
       "      <td>Any</td>\n",
       "      <td>Sinamar Extract</td>\n",
       "    </tr>\n",
       "    <tr>\n",
       "      <th>2336</th>\n",
       "      <td>0</td>\n",
       "      <td>1500</td>\n",
       "      <td>False</td>\n",
       "      <td>Any</td>\n",
       "      <td>Caramel Coloring</td>\n",
       "    </tr>\n",
       "    <tr>\n",
       "      <th>2671</th>\n",
       "      <td>33</td>\n",
       "      <td>1300</td>\n",
       "      <td>True</td>\n",
       "      <td>Briess</td>\n",
       "      <td>Roasted Barley (US)</td>\n",
       "    </tr>\n",
       "    <tr>\n",
       "      <th>3529</th>\n",
       "      <td>28</td>\n",
       "      <td>1500</td>\n",
       "      <td>True</td>\n",
       "      <td>Any</td>\n",
       "      <td>Black Malt (UK)</td>\n",
       "    </tr>\n",
       "    <tr>\n",
       "      <th>3957</th>\n",
       "      <td>27</td>\n",
       "      <td>1350</td>\n",
       "      <td>True</td>\n",
       "      <td>Any</td>\n",
       "      <td>Black Barley (US)</td>\n",
       "    </tr>\n",
       "    <tr>\n",
       "      <th>4261</th>\n",
       "      <td>34</td>\n",
       "      <td>3500</td>\n",
       "      <td>False</td>\n",
       "      <td>Any</td>\n",
       "      <td>Maltoferm</td>\n",
       "    </tr>\n",
       "    <tr>\n",
       "      <th>4503</th>\n",
       "      <td>25</td>\n",
       "      <td>800</td>\n",
       "      <td>True</td>\n",
       "      <td>Any</td>\n",
       "      <td>Roasted Barley (US)</td>\n",
       "    </tr>\n",
       "    <tr>\n",
       "      <th>4884</th>\n",
       "      <td>32</td>\n",
       "      <td>800</td>\n",
       "      <td>True</td>\n",
       "      <td>Any</td>\n",
       "      <td>Carafa III (DE)</td>\n",
       "    </tr>\n",
       "    <tr>\n",
       "      <th>5155</th>\n",
       "      <td>25</td>\n",
       "      <td>985</td>\n",
       "      <td>False</td>\n",
       "      <td>Any</td>\n",
       "      <td>Black (Patent) Malt</td>\n",
       "    </tr>\n",
       "    <tr>\n",
       "      <th>5156</th>\n",
       "      <td>33</td>\n",
       "      <td>886</td>\n",
       "      <td>False</td>\n",
       "      <td>Any</td>\n",
       "      <td>Chocolate Malt</td>\n",
       "    </tr>\n",
       "  </tbody>\n",
       "</table>\n",
       "</div>"
      ],
      "text/plain": [
       "      PPG  color  generic   maltster                 name\n",
       "214    30    850    False        Any            Carafa II\n",
       "1011   27   1400    False        Any           Black Malt\n",
       "2130   35   2320     True  Dingemans         Biscuit (BE)\n",
       "2152   28   1400     True        Any      Black Malt (UK)\n",
       "2230   34    900     True  Dingemans       Chocolate (BE)\n",
       "2269    1   3120    False        Any      Sinamar Extract\n",
       "2336    0   1500    False        Any     Caramel Coloring\n",
       "2671   33   1300     True     Briess  Roasted Barley (US)\n",
       "3529   28   1500     True        Any      Black Malt (UK)\n",
       "3957   27   1350     True        Any    Black Barley (US)\n",
       "4261   34   3500    False        Any            Maltoferm\n",
       "4503   25    800     True        Any  Roasted Barley (US)\n",
       "4884   32    800     True        Any      Carafa III (DE)\n",
       "5155   25    985    False        Any  Black (Patent) Malt\n",
       "5156   33    886    False        Any       Chocolate Malt"
      ]
     },
     "execution_count": 37,
     "metadata": {},
     "output_type": "execute_result"
    }
   ],
   "source": [
    "grain_df[grain_df['color'] >= 800]"
   ]
  },
  {
   "cell_type": "code",
   "execution_count": 38,
   "metadata": {},
   "outputs": [],
   "source": [
    "drop_list = list(grain_df[grain_df['color'] >= 800].index)"
   ]
  },
  {
   "cell_type": "code",
   "execution_count": 39,
   "metadata": {},
   "outputs": [
    {
     "data": {
      "text/html": [
       "<div>\n",
       "<style scoped>\n",
       "    .dataframe tbody tr th:only-of-type {\n",
       "        vertical-align: middle;\n",
       "    }\n",
       "\n",
       "    .dataframe tbody tr th {\n",
       "        vertical-align: top;\n",
       "    }\n",
       "\n",
       "    .dataframe thead th {\n",
       "        text-align: right;\n",
       "    }\n",
       "</style>\n",
       "<table border=\"1\" class=\"dataframe\">\n",
       "  <thead>\n",
       "    <tr style=\"text-align: right;\">\n",
       "      <th></th>\n",
       "      <th>PPG</th>\n",
       "      <th>color</th>\n",
       "      <th>generic</th>\n",
       "      <th>maltster</th>\n",
       "      <th>name</th>\n",
       "    </tr>\n",
       "  </thead>\n",
       "  <tbody>\n",
       "  </tbody>\n",
       "</table>\n",
       "</div>"
      ],
      "text/plain": [
       "Empty DataFrame\n",
       "Columns: [PPG, color, generic, maltster, name]\n",
       "Index: []"
      ]
     },
     "execution_count": 39,
     "metadata": {},
     "output_type": "execute_result"
    }
   ],
   "source": [
    "grain_df[grain_df['PPG'] < 0]"
   ]
  },
  {
   "cell_type": "code",
   "execution_count": 40,
   "metadata": {},
   "outputs": [],
   "source": [
    "drop_list.append(5563)"
   ]
  },
  {
   "cell_type": "code",
   "execution_count": 41,
   "metadata": {},
   "outputs": [],
   "source": [
    "drop_list += list(grain_df[grain_df['PPG'] > 46].index)"
   ]
  },
  {
   "cell_type": "code",
   "execution_count": 42,
   "metadata": {},
   "outputs": [],
   "source": [
    "def grain_dropper(index):\n",
    "    PPG, color, generic, maltster, name = grain_df.loc[index, :]\n",
    "    for i in df.index:\n",
    "        d = df.loc[i, 'fermentables']\n",
    "        for j in d.values():\n",
    "            if j['name'].lower() == name.lower() and j['PPG'] == PPG: \n",
    "                if j['generic'] == generic and j['maltster'].lower() == maltster.lower() and j['color'] == color:\n",
    "                    df.drop(i, axis=0, inplace=True)\n",
    "                    break\n",
    "    return None"
   ]
  },
  {
   "cell_type": "code",
   "execution_count": 43,
   "metadata": {
    "scrolled": true
   },
   "outputs": [],
   "source": [
    "for i in drop_list:\n",
    "    grain_dropper(i)"
   ]
  },
  {
   "cell_type": "code",
   "execution_count": 44,
   "metadata": {},
   "outputs": [
    {
     "data": {
      "text/plain": [
       "(81254, 15)"
      ]
     },
     "execution_count": 44,
     "metadata": {},
     "output_type": "execute_result"
    }
   ],
   "source": [
    "df.shape"
   ]
  },
  {
   "cell_type": "markdown",
   "metadata": {},
   "source": [
    "Since I have dropped several recipes and I have found that all grains are using the same color units, I'll rerun the cells above that created the grain dataframe to get a more accurate picture of which grains remain"
   ]
  },
  {
   "cell_type": "code",
   "execution_count": 45,
   "metadata": {},
   "outputs": [],
   "source": [
    "grain_list = []\n",
    "for i in df.loc[:, 'fermentables'].values:\n",
    "    for j in i.values():\n",
    "        temp = j.copy()\n",
    "        del temp['amount']\n",
    "        del temp['amount_unit']\n",
    "        del temp['use']\n",
    "        del temp['color_unit']\n",
    "        if temp not in grain_list:\n",
    "            grain_list.append(temp)\n",
    "grain_df = pd.DataFrame(grain_list)"
   ]
  },
  {
   "cell_type": "code",
   "execution_count": 46,
   "metadata": {},
   "outputs": [
    {
     "data": {
      "text/plain": [
       "(3936, 5)"
      ]
     },
     "execution_count": 46,
     "metadata": {},
     "output_type": "execute_result"
    }
   ],
   "source": [
    "grain_df.shape"
   ]
  },
  {
   "cell_type": "code",
   "execution_count": 47,
   "metadata": {},
   "outputs": [
    {
     "data": {
      "text/plain": [
       "834"
      ]
     },
     "execution_count": 47,
     "metadata": {},
     "output_type": "execute_result"
    }
   ],
   "source": [
    "len(grain_df['name'].unique())"
   ]
  },
  {
   "cell_type": "markdown",
   "metadata": {},
   "source": [
    "Next I want to make sure that I remove all maltster names and the word malt from the name of grains in the grain data frame. To do so, I'll first make sure I change everything to lowercase."
   ]
  },
  {
   "cell_type": "code",
   "execution_count": 48,
   "metadata": {},
   "outputs": [],
   "source": [
    "# Make grain names and maltster names lowercase\n",
    "grain_df['name'] = [g.lower() for g in grain_df['name']]\n",
    "grain_df['maltster'] = [g.lower() for g in grain_df['maltster']]"
   ]
  },
  {
   "cell_type": "code",
   "execution_count": 49,
   "metadata": {},
   "outputs": [],
   "source": [
    "def grain_name_cleaner(orig_names):\n",
    "    # Make a copy of the original names to change to new names\n",
    "    new_names = [x.lower() for x in orig_names]\n",
    "    \n",
    "    # Remove maltster names from grain names\n",
    "    for i in grain_df['maltster'].unique():\n",
    "        if i == 'any':\n",
    "            continue\n",
    "        new_names = [g.replace(i, '').strip() for g in new_names]\n",
    "\n",
    "    # Remove the word malt and brewers from grain names\n",
    "    new_names = [g.replace(' malt ', ' ').strip() for g in new_names]\n",
    "    new_names = [g.replace(\"'\", '').replace('brewers', '').strip() for g in new_names]\n",
    "    \n",
    "    # Replace unwanted characters/words in grain names\n",
    "    # Build list of replacements\n",
    "    grain_replacements = [\n",
    "        # Punctuation\n",
    "        ('-', ' '), ('/', ' '), (',', ''), ('(', ''), (')', ''), ('\"', ''),\n",
    "\n",
    "        # Symbols\n",
    "        ('md™', ''), ('™', ''), ('®', ''), ('°', ''), \n",
    "\n",
    "        # Accented Characters\n",
    "        ('á', 'a'), ('ö', 'o'), ('é', 'e'), ('ô', 'o'),\n",
    "\n",
    "        # Maltster names\n",
    "        ('thomas fawcett', ''), ('fawcett', ''), ('breiss', ''), ('best malz', ''), ('canada malting', ''),\n",
    "        ('canadian malting', ''), ('château', ''), ('dingeman', ''), ('europ', ''), ('franco belges', ''),\n",
    "        ('francobelges', ''), ('gladfield', ''), ('gleneagles', ''), ('malteurop', ''), ('maltexico', ''),\n",
    "        ('pauls', ''), ('simpons', ''), ('tf', ''), ('warminster', ''), ('weyermann', ''), ('weyerman', ''),\n",
    "        ('thomas faucett', ''), ('bairds', ''), ('valley', ''), ('caragill', ''), ('great western', ''),\n",
    "        ('canada m.c.', ''), ('gambrinus', ''), ('muntons', ''), ('munton', ''),\n",
    "\n",
    "        # Spelling mistakes\n",
    "        ('torrefied', 'torrified'), ('floor ed', 'floor malted'), ('cara belge', 'carabelge'),\n",
    "        ('cara pils', 'carapils'), ('cherrywood smoke', 'cherrywood smoked'), ('dextrine', 'dextrin'),\n",
    "        ('de husked', 'dehusked'), ('de bittered', 'debittered'), ('marris otter', 'maris otter'),\n",
    "        ('marrisottercarapils', 'maris otter carapils'), ('raisans', 'raisins'),\n",
    "        ('bohemial', 'bohemian'), ('caraf i', 'carafa i'),\n",
    "\n",
    "        # Terminology differences\n",
    "        ('floored', 'floor malted'), ('cherry wood', 'cherrywood'), ('carafa special', 'carafa'),\n",
    "        ('type 1', 'i'), ('type 3', 'iii'), ('oio g&p', 'ca'), ('oio ca', 'ca'), ('oio', ''),  \n",
    "        ('rauchmalz', 'beechwood smoked malt de'), ('german rauch smoked', 'beechwood smoked malt de'),\n",
    "        ('beechwood smoked malt', 'beechwood smoked malt de'), ('dehusked carafa iii special', 'dehusked carafa iii'),\n",
    "\n",
    "\n",
    "        # Unnecessary descriptive words\n",
    "        ('organic', ''), ('premium', ''), ('milk sugar', ''), ('ebc', ''), ('type two', ''), ('type', ''),\n",
    "        ('trader joes', ''), ('brewers', ''), (' malt ', ' '), ('matl', ''),\n",
    "\n",
    "        # Numbers to words\n",
    "        ('2 ', 'two '), ('6 ', 'six '), \n",
    "    ]\n",
    "    \n",
    "    # Loop through list and run all replacements\n",
    "    for r in grain_replacements:\n",
    "        new_names = [g.replace(r[0], r[1]).strip() for g in new_names]\n",
    "    \n",
    "    # Remove 'malt' at beginning and end of grain names\n",
    "    new_names = [g.replace('malt', '').strip() if g.startswith('malt ') else g for g in new_names]\n",
    "    new_names = [g.replace('malt', '').strip() if g.endswith(' malt') else g for g in new_names]\n",
    "    \n",
    "    # Fix all multiple spaces to be a single space\n",
    "    new_names = [re.sub('\\s+', ' ', g) for g in new_names]\n",
    "    \n",
    "    # Replace country names\n",
    "    new_names = [g.replace('american ', '').strip() + ' us' if 'american' in g else g for g in new_names]\n",
    "    new_names = [g.replace('british ', '').strip() + ' uk' if 'british' in g else g for g in new_names]\n",
    "    new_names = [g.replace('belgian ', '').strip() + ' be' if 'belgian' in g else g for g in new_names]\n",
    "    new_names = [g.replace('canadian ', '').strip() + ' ca' if 'canadian' in g else g for g in new_names]\n",
    "    new_names = [g.replace('english ', '').strip() + ' uk' if 'english' in g else g for g in new_names]\n",
    "    new_names = [g.replace('german ', '').strip() + ' de' if 'german' in g else g for g in new_names]\n",
    "    \n",
    "    # Fix remaining issues from country names\n",
    "    new_names = [g.replace('us ', '') + ' us' if 'us ' in g else g for g in new_names]\n",
    "    new_names = [g.replace('uk ', '') + ' uk' if 'uk ' in g else g for g in new_names]\n",
    "    new_names = [g.replace('de de', 'de') for g in new_names]\n",
    "    new_names = [g[:-1].strip() if g.endswith(' l') else g for g in new_names]\n",
    "    new_names = [g.replace('0l', '0').replace('4l', '4').replace('5l', '5').replace('7l', '7').replace('8l', '8') for g in new_names]\n",
    "    \n",
    "    # Fix different names for same grain\n",
    "    full_replace = ['sucrose', 'acid']\n",
    "    for i in full_replace:\n",
    "        new_names = [i if i in g else g for g in new_names]\n",
    "        \n",
    "    # Create mapping dictionary\n",
    "    grain_mapper = {orig_names[i]:new_names[i] for i in range(len(new_names))}\n",
    "    \n",
    "    return (new_names, grain_mapper)"
   ]
  },
  {
   "cell_type": "code",
   "execution_count": 50,
   "metadata": {},
   "outputs": [],
   "source": [
    "grain_df['name'], grain_mapper = grain_name_cleaner(grain_df['name'])"
   ]
  },
  {
   "cell_type": "code",
   "execution_count": 51,
   "metadata": {},
   "outputs": [
    {
     "data": {
      "text/html": [
       "<div>\n",
       "<style scoped>\n",
       "    .dataframe tbody tr th:only-of-type {\n",
       "        vertical-align: middle;\n",
       "    }\n",
       "\n",
       "    .dataframe tbody tr th {\n",
       "        vertical-align: top;\n",
       "    }\n",
       "\n",
       "    .dataframe thead th {\n",
       "        text-align: right;\n",
       "    }\n",
       "</style>\n",
       "<table border=\"1\" class=\"dataframe\">\n",
       "  <thead>\n",
       "    <tr style=\"text-align: right;\">\n",
       "      <th></th>\n",
       "      <th>PPG</th>\n",
       "      <th>color</th>\n",
       "      <th>generic</th>\n",
       "      <th>maltster</th>\n",
       "      <th>name</th>\n",
       "    </tr>\n",
       "  </thead>\n",
       "  <tbody>\n",
       "    <tr>\n",
       "      <th>30</th>\n",
       "      <td>0</td>\n",
       "      <td>0</td>\n",
       "      <td>False</td>\n",
       "      <td>any</td>\n",
       "      <td>rice hulls</td>\n",
       "    </tr>\n",
       "    <tr>\n",
       "      <th>153</th>\n",
       "      <td>0</td>\n",
       "      <td>0</td>\n",
       "      <td>False</td>\n",
       "      <td>any</td>\n",
       "      <td>maltodextrin</td>\n",
       "    </tr>\n",
       "    <tr>\n",
       "      <th>230</th>\n",
       "      <td>0</td>\n",
       "      <td>0</td>\n",
       "      <td>True</td>\n",
       "      <td>any</td>\n",
       "      <td>rice hulls</td>\n",
       "    </tr>\n",
       "    <tr>\n",
       "      <th>335</th>\n",
       "      <td>0</td>\n",
       "      <td>550</td>\n",
       "      <td>True</td>\n",
       "      <td>briess</td>\n",
       "      <td>midnight wheat us</td>\n",
       "    </tr>\n",
       "    <tr>\n",
       "      <th>419</th>\n",
       "      <td>0</td>\n",
       "      <td>17</td>\n",
       "      <td>False</td>\n",
       "      <td>weyermann®</td>\n",
       "      <td>abbey</td>\n",
       "    </tr>\n",
       "    <tr>\n",
       "      <th>641</th>\n",
       "      <td>0</td>\n",
       "      <td>0</td>\n",
       "      <td>False</td>\n",
       "      <td>briess</td>\n",
       "      <td>rice hulls</td>\n",
       "    </tr>\n",
       "    <tr>\n",
       "      <th>979</th>\n",
       "      <td>0</td>\n",
       "      <td>500</td>\n",
       "      <td>False</td>\n",
       "      <td>briess</td>\n",
       "      <td>blackprinz</td>\n",
       "    </tr>\n",
       "    <tr>\n",
       "      <th>1373</th>\n",
       "      <td>0</td>\n",
       "      <td>0</td>\n",
       "      <td>False</td>\n",
       "      <td>any</td>\n",
       "      <td>orange juice</td>\n",
       "    </tr>\n",
       "    <tr>\n",
       "      <th>1639</th>\n",
       "      <td>0</td>\n",
       "      <td>1</td>\n",
       "      <td>True</td>\n",
       "      <td>any</td>\n",
       "      <td>lactose</td>\n",
       "    </tr>\n",
       "    <tr>\n",
       "      <th>1740</th>\n",
       "      <td>0</td>\n",
       "      <td>20</td>\n",
       "      <td>False</td>\n",
       "      <td>any</td>\n",
       "      <td>caramel 20</td>\n",
       "    </tr>\n",
       "    <tr>\n",
       "      <th>1950</th>\n",
       "      <td>0</td>\n",
       "      <td>2</td>\n",
       "      <td>True</td>\n",
       "      <td>any</td>\n",
       "      <td>flaked oats</td>\n",
       "    </tr>\n",
       "    <tr>\n",
       "      <th>2065</th>\n",
       "      <td>0</td>\n",
       "      <td>0</td>\n",
       "      <td>True</td>\n",
       "      <td>rahr</td>\n",
       "      <td>rice hulls</td>\n",
       "    </tr>\n",
       "    <tr>\n",
       "      <th>2152</th>\n",
       "      <td>0</td>\n",
       "      <td>425</td>\n",
       "      <td>True</td>\n",
       "      <td>any</td>\n",
       "      <td>chocolate uk</td>\n",
       "    </tr>\n",
       "    <tr>\n",
       "      <th>2236</th>\n",
       "      <td>0</td>\n",
       "      <td>35</td>\n",
       "      <td>False</td>\n",
       "      <td>any</td>\n",
       "      <td>biscuit</td>\n",
       "    </tr>\n",
       "    <tr>\n",
       "      <th>2298</th>\n",
       "      <td>0</td>\n",
       "      <td>1</td>\n",
       "      <td>False</td>\n",
       "      <td>any</td>\n",
       "      <td>flaked rye</td>\n",
       "    </tr>\n",
       "    <tr>\n",
       "      <th>2490</th>\n",
       "      <td>0</td>\n",
       "      <td>5</td>\n",
       "      <td>False</td>\n",
       "      <td>any</td>\n",
       "      <td>butternut squash</td>\n",
       "    </tr>\n",
       "    <tr>\n",
       "      <th>2760</th>\n",
       "      <td>0</td>\n",
       "      <td>2</td>\n",
       "      <td>True</td>\n",
       "      <td>any</td>\n",
       "      <td>spelt de</td>\n",
       "    </tr>\n",
       "    <tr>\n",
       "      <th>2785</th>\n",
       "      <td>0</td>\n",
       "      <td>3</td>\n",
       "      <td>True</td>\n",
       "      <td>any</td>\n",
       "      <td>rye us</td>\n",
       "    </tr>\n",
       "    <tr>\n",
       "      <th>3066</th>\n",
       "      <td>0</td>\n",
       "      <td>550</td>\n",
       "      <td>True</td>\n",
       "      <td>any</td>\n",
       "      <td>roasted barley uk</td>\n",
       "    </tr>\n",
       "    <tr>\n",
       "      <th>3175</th>\n",
       "      <td>0</td>\n",
       "      <td>0</td>\n",
       "      <td>True</td>\n",
       "      <td>briess</td>\n",
       "      <td>rice hulls</td>\n",
       "    </tr>\n",
       "    <tr>\n",
       "      <th>3462</th>\n",
       "      <td>0</td>\n",
       "      <td>0</td>\n",
       "      <td>True</td>\n",
       "      <td>great western</td>\n",
       "      <td>rice hulls</td>\n",
       "    </tr>\n",
       "    <tr>\n",
       "      <th>3468</th>\n",
       "      <td>0</td>\n",
       "      <td>500</td>\n",
       "      <td>True</td>\n",
       "      <td>any</td>\n",
       "      <td>black uk</td>\n",
       "    </tr>\n",
       "    <tr>\n",
       "      <th>3485</th>\n",
       "      <td>0</td>\n",
       "      <td>300</td>\n",
       "      <td>True</td>\n",
       "      <td>briess</td>\n",
       "      <td>roasted barley us</td>\n",
       "    </tr>\n",
       "    <tr>\n",
       "      <th>3534</th>\n",
       "      <td>0</td>\n",
       "      <td>0</td>\n",
       "      <td>True</td>\n",
       "      <td>any</td>\n",
       "      <td>wheat uk</td>\n",
       "    </tr>\n",
       "    <tr>\n",
       "      <th>3776</th>\n",
       "      <td>0</td>\n",
       "      <td>470</td>\n",
       "      <td>True</td>\n",
       "      <td>any</td>\n",
       "      <td>dehusked carafa iii de</td>\n",
       "    </tr>\n",
       "    <tr>\n",
       "      <th>3823</th>\n",
       "      <td>0</td>\n",
       "      <td>1</td>\n",
       "      <td>False</td>\n",
       "      <td>any</td>\n",
       "      <td>pumpkin</td>\n",
       "    </tr>\n",
       "  </tbody>\n",
       "</table>\n",
       "</div>"
      ],
      "text/plain": [
       "      PPG  color  generic       maltster                    name\n",
       "30      0      0    False            any              rice hulls\n",
       "153     0      0    False            any            maltodextrin\n",
       "230     0      0     True            any              rice hulls\n",
       "335     0    550     True         briess       midnight wheat us\n",
       "419     0     17    False     weyermann®                   abbey\n",
       "641     0      0    False         briess              rice hulls\n",
       "979     0    500    False         briess              blackprinz\n",
       "1373    0      0    False            any            orange juice\n",
       "1639    0      1     True            any                 lactose\n",
       "1740    0     20    False            any              caramel 20\n",
       "1950    0      2     True            any             flaked oats\n",
       "2065    0      0     True           rahr              rice hulls\n",
       "2152    0    425     True            any            chocolate uk\n",
       "2236    0     35    False            any                 biscuit\n",
       "2298    0      1    False            any              flaked rye\n",
       "2490    0      5    False            any        butternut squash\n",
       "2760    0      2     True            any                spelt de\n",
       "2785    0      3     True            any                  rye us\n",
       "3066    0    550     True            any       roasted barley uk\n",
       "3175    0      0     True         briess              rice hulls\n",
       "3462    0      0     True  great western              rice hulls\n",
       "3468    0    500     True            any                black uk\n",
       "3485    0    300     True         briess       roasted barley us\n",
       "3534    0      0     True            any                wheat uk\n",
       "3776    0    470     True            any  dehusked carafa iii de\n",
       "3823    0      1    False            any                 pumpkin"
      ]
     },
     "execution_count": 51,
     "metadata": {},
     "output_type": "execute_result"
    }
   ],
   "source": [
    "grain_df[grain_df['PPG']==0]"
   ]
  },
  {
   "cell_type": "code",
   "execution_count": 53,
   "metadata": {},
   "outputs": [],
   "source": [
    "mask_1 = grain_df['PPG'] == 0\n",
    "mask_2 = grain_df['name'] != 'rice hulls'\n",
    "mask_3 = grain_df['name'] != 'maltodextrin'\n",
    "mask_4 = grain_df['name'] != 'lactose'\n",
    "\n",
    "drop_indices = grain_df[(mask_1) & (mask_2) & (mask_3) & (mask_4)].index\n",
    "for i in drop_indices:\n",
    "    grain_dropper(i)"
   ]
  },
  {
   "cell_type": "code",
   "execution_count": 54,
   "metadata": {},
   "outputs": [],
   "source": [
    "for i in df.index:\n",
    "    d = df.loc[i, 'fermentables']\n",
    "    for j in d.values():\n",
    "        j['name'] = grain_mapper[j['name'].lower()]"
   ]
  },
  {
   "cell_type": "code",
   "execution_count": 55,
   "metadata": {},
   "outputs": [
    {
     "data": {
      "text/plain": [
       "(81236, 15)"
      ]
     },
     "execution_count": 55,
     "metadata": {},
     "output_type": "execute_result"
    }
   ],
   "source": [
    "df.shape"
   ]
  },
  {
   "cell_type": "code",
   "execution_count": 56,
   "metadata": {},
   "outputs": [],
   "source": [
    "grain_df = grain_df.groupby('name').agg({\n",
    "    'PPG': ['min', 'max', 'mean'],\n",
    "    'color': ['min', 'max', 'mean'],\n",
    "})"
   ]
  },
  {
   "cell_type": "code",
   "execution_count": 57,
   "metadata": {},
   "outputs": [
    {
     "data": {
      "text/plain": [
       "MultiIndex(levels=[['PPG', 'color'], ['min', 'max', 'mean']],\n",
       "           labels=[[0, 0, 0, 1, 1, 1], [0, 1, 2, 0, 1, 2]])"
      ]
     },
     "execution_count": 57,
     "metadata": {},
     "output_type": "execute_result"
    }
   ],
   "source": [
    "grain_df.columns"
   ]
  },
  {
   "cell_type": "code",
   "execution_count": 58,
   "metadata": {},
   "outputs": [],
   "source": [
    "grain_df.columns = ['PPG_min', 'PPG_max', 'PPG_mean', 'color_min', 'color_max', 'color_mean']"
   ]
  },
  {
   "cell_type": "markdown",
   "metadata": {},
   "source": [
    "## Cleaning Hops"
   ]
  },
  {
   "cell_type": "code",
   "execution_count": 59,
   "metadata": {},
   "outputs": [],
   "source": [
    "# Create an empty list\n",
    "hop_list = []\n",
    "\n",
    "# Iterate through all rows\n",
    "for i in df.loc[:, 'hops'].values:\n",
    "    # Iterate through all entries in hop dictionary\n",
    "    for j in i.values():\n",
    "        temp = j.copy()\n",
    "        # Remove unnecessary columns\n",
    "        del temp['amount']\n",
    "        del temp['time']\n",
    "        # If the hop is not a duplicate, add it to the list\n",
    "        if temp not in hop_list:\n",
    "            hop_list.append(temp)\n",
    "\n",
    "# Make a dataframe from the list of dictionaries\n",
    "hops = pd.DataFrame(hop_list)"
   ]
  },
  {
   "cell_type": "code",
   "execution_count": 60,
   "metadata": {},
   "outputs": [
    {
     "data": {
      "text/html": [
       "<div>\n",
       "<style scoped>\n",
       "    .dataframe tbody tr th:only-of-type {\n",
       "        vertical-align: middle;\n",
       "    }\n",
       "\n",
       "    .dataframe tbody tr th {\n",
       "        vertical-align: top;\n",
       "    }\n",
       "\n",
       "    .dataframe thead th {\n",
       "        text-align: right;\n",
       "    }\n",
       "</style>\n",
       "<table border=\"1\" class=\"dataframe\">\n",
       "  <thead>\n",
       "    <tr style=\"text-align: right;\">\n",
       "      <th></th>\n",
       "      <th>alpha</th>\n",
       "      <th>amount_unit</th>\n",
       "      <th>form</th>\n",
       "      <th>generic</th>\n",
       "      <th>name</th>\n",
       "      <th>use</th>\n",
       "    </tr>\n",
       "  </thead>\n",
       "  <tbody>\n",
       "    <tr>\n",
       "      <th>0</th>\n",
       "      <td>0.067</td>\n",
       "      <td>oz</td>\n",
       "      <td>Leaf</td>\n",
       "      <td>True</td>\n",
       "      <td>Fuggle (US)</td>\n",
       "      <td>Boil</td>\n",
       "    </tr>\n",
       "    <tr>\n",
       "      <th>1</th>\n",
       "      <td>0.110</td>\n",
       "      <td>oz</td>\n",
       "      <td>Leaf</td>\n",
       "      <td>True</td>\n",
       "      <td>Citra (US)</td>\n",
       "      <td>Boil</td>\n",
       "    </tr>\n",
       "    <tr>\n",
       "      <th>2</th>\n",
       "      <td>0.162</td>\n",
       "      <td>oz</td>\n",
       "      <td>Leaf</td>\n",
       "      <td>True</td>\n",
       "      <td>Zeus (US)</td>\n",
       "      <td>Boil</td>\n",
       "    </tr>\n",
       "    <tr>\n",
       "      <th>3</th>\n",
       "      <td>0.098</td>\n",
       "      <td>oz</td>\n",
       "      <td>Leaf</td>\n",
       "      <td>True</td>\n",
       "      <td>Centennial (US)</td>\n",
       "      <td>Boil</td>\n",
       "    </tr>\n",
       "    <tr>\n",
       "      <th>4</th>\n",
       "      <td>0.130</td>\n",
       "      <td>oz</td>\n",
       "      <td>Leaf</td>\n",
       "      <td>True</td>\n",
       "      <td>Chinook (US)</td>\n",
       "      <td>Boil</td>\n",
       "    </tr>\n",
       "  </tbody>\n",
       "</table>\n",
       "</div>"
      ],
      "text/plain": [
       "   alpha amount_unit  form  generic             name   use\n",
       "0  0.067          oz  Leaf     True      Fuggle (US)  Boil\n",
       "1  0.110          oz  Leaf     True       Citra (US)  Boil\n",
       "2  0.162          oz  Leaf     True        Zeus (US)  Boil\n",
       "3  0.098          oz  Leaf     True  Centennial (US)  Boil\n",
       "4  0.130          oz  Leaf     True     Chinook (US)  Boil"
      ]
     },
     "execution_count": 60,
     "metadata": {},
     "output_type": "execute_result"
    }
   ],
   "source": [
    "hops.head()"
   ]
  },
  {
   "cell_type": "code",
   "execution_count": 61,
   "metadata": {},
   "outputs": [
    {
     "data": {
      "text/plain": [
       "(17082, 6)"
      ]
     },
     "execution_count": 61,
     "metadata": {},
     "output_type": "execute_result"
    }
   ],
   "source": [
    "hops.shape"
   ]
  },
  {
   "cell_type": "code",
   "execution_count": 62,
   "metadata": {},
   "outputs": [
    {
     "data": {
      "text/plain": [
       "oz    11955\n",
       "g      5127\n",
       "Name: amount_unit, dtype: int64"
      ]
     },
     "execution_count": 62,
     "metadata": {},
     "output_type": "execute_result"
    }
   ],
   "source": [
    "# Find out what units are used to measure weight/amount of hops\n",
    "hops['amount_unit'].value_counts()"
   ]
  },
  {
   "cell_type": "markdown",
   "metadata": {},
   "source": [
    "I'll have to write a function to convert gram measurements into ounces. This can be done later"
   ]
  },
  {
   "cell_type": "code",
   "execution_count": 63,
   "metadata": {},
   "outputs": [
    {
     "data": {
      "text/html": [
       "<div>\n",
       "<style scoped>\n",
       "    .dataframe tbody tr th:only-of-type {\n",
       "        vertical-align: middle;\n",
       "    }\n",
       "\n",
       "    .dataframe tbody tr th {\n",
       "        vertical-align: top;\n",
       "    }\n",
       "\n",
       "    .dataframe thead th {\n",
       "        text-align: right;\n",
       "    }\n",
       "</style>\n",
       "<table border=\"1\" class=\"dataframe\">\n",
       "  <thead>\n",
       "    <tr style=\"text-align: right;\">\n",
       "      <th></th>\n",
       "      <th>alpha</th>\n",
       "    </tr>\n",
       "  </thead>\n",
       "  <tbody>\n",
       "    <tr>\n",
       "      <th>count</th>\n",
       "      <td>17082.000000</td>\n",
       "    </tr>\n",
       "    <tr>\n",
       "      <th>mean</th>\n",
       "      <td>0.090587</td>\n",
       "    </tr>\n",
       "    <tr>\n",
       "      <th>std</th>\n",
       "      <td>0.045448</td>\n",
       "    </tr>\n",
       "    <tr>\n",
       "      <th>min</th>\n",
       "      <td>0.000000</td>\n",
       "    </tr>\n",
       "    <tr>\n",
       "      <th>25%</th>\n",
       "      <td>0.054000</td>\n",
       "    </tr>\n",
       "    <tr>\n",
       "      <th>50%</th>\n",
       "      <td>0.084000</td>\n",
       "    </tr>\n",
       "    <tr>\n",
       "      <th>75%</th>\n",
       "      <td>0.125000</td>\n",
       "    </tr>\n",
       "    <tr>\n",
       "      <th>max</th>\n",
       "      <td>1.600000</td>\n",
       "    </tr>\n",
       "  </tbody>\n",
       "</table>\n",
       "</div>"
      ],
      "text/plain": [
       "              alpha\n",
       "count  17082.000000\n",
       "mean       0.090587\n",
       "std        0.045448\n",
       "min        0.000000\n",
       "25%        0.054000\n",
       "50%        0.084000\n",
       "75%        0.125000\n",
       "max        1.600000"
      ]
     },
     "execution_count": 63,
     "metadata": {},
     "output_type": "execute_result"
    }
   ],
   "source": [
    "hops.describe()"
   ]
  },
  {
   "cell_type": "code",
   "execution_count": 64,
   "metadata": {},
   "outputs": [
    {
     "data": {
      "text/plain": [
       "Boil          9734\n",
       "Dry Hop       3664\n",
       "First Wort    2047\n",
       "Whirlpool     1266\n",
       "Mash           371\n",
       "Name: use, dtype: int64"
      ]
     },
     "execution_count": 64,
     "metadata": {},
     "output_type": "execute_result"
    }
   ],
   "source": [
    "hops['use'].value_counts()"
   ]
  },
  {
   "cell_type": "code",
   "execution_count": 65,
   "metadata": {},
   "outputs": [
    {
     "data": {
      "text/plain": [
       "Pellet    11914\n",
       "Leaf       4851\n",
       "Plug        317\n",
       "Name: form, dtype: int64"
      ]
     },
     "execution_count": 65,
     "metadata": {},
     "output_type": "execute_result"
    }
   ],
   "source": [
    "hops['form'].value_counts()"
   ]
  },
  {
   "cell_type": "code",
   "execution_count": 66,
   "metadata": {
    "scrolled": false
   },
   "outputs": [
    {
     "data": {
      "text/html": [
       "<div>\n",
       "<style scoped>\n",
       "    .dataframe tbody tr th:only-of-type {\n",
       "        vertical-align: middle;\n",
       "    }\n",
       "\n",
       "    .dataframe tbody tr th {\n",
       "        vertical-align: top;\n",
       "    }\n",
       "\n",
       "    .dataframe thead th {\n",
       "        text-align: right;\n",
       "    }\n",
       "</style>\n",
       "<table border=\"1\" class=\"dataframe\">\n",
       "  <thead>\n",
       "    <tr style=\"text-align: right;\">\n",
       "      <th></th>\n",
       "      <th>alpha</th>\n",
       "      <th>amount_unit</th>\n",
       "      <th>form</th>\n",
       "      <th>generic</th>\n",
       "      <th>name</th>\n",
       "      <th>use</th>\n",
       "    </tr>\n",
       "  </thead>\n",
       "  <tbody>\n",
       "    <tr>\n",
       "      <th>3439</th>\n",
       "      <td>0.0</td>\n",
       "      <td>oz</td>\n",
       "      <td>Pellet</td>\n",
       "      <td>True</td>\n",
       "      <td>Amarillo (US)</td>\n",
       "      <td>Boil</td>\n",
       "    </tr>\n",
       "    <tr>\n",
       "      <th>4340</th>\n",
       "      <td>0.0</td>\n",
       "      <td>g</td>\n",
       "      <td>Pellet</td>\n",
       "      <td>True</td>\n",
       "      <td>Cascade (US)</td>\n",
       "      <td>Dry Hop</td>\n",
       "    </tr>\n",
       "    <tr>\n",
       "      <th>4341</th>\n",
       "      <td>0.0</td>\n",
       "      <td>g</td>\n",
       "      <td>Pellet</td>\n",
       "      <td>True</td>\n",
       "      <td>Citra (US)</td>\n",
       "      <td>Dry Hop</td>\n",
       "    </tr>\n",
       "    <tr>\n",
       "      <th>4781</th>\n",
       "      <td>0.0</td>\n",
       "      <td>g</td>\n",
       "      <td>Pellet</td>\n",
       "      <td>True</td>\n",
       "      <td>Amarillo (US)</td>\n",
       "      <td>Dry Hop</td>\n",
       "    </tr>\n",
       "    <tr>\n",
       "      <th>4782</th>\n",
       "      <td>0.0</td>\n",
       "      <td>g</td>\n",
       "      <td>Leaf</td>\n",
       "      <td>True</td>\n",
       "      <td>Simcoe (US)</td>\n",
       "      <td>Dry Hop</td>\n",
       "    </tr>\n",
       "    <tr>\n",
       "      <th>5498</th>\n",
       "      <td>0.0</td>\n",
       "      <td>g</td>\n",
       "      <td>Pellet</td>\n",
       "      <td>True</td>\n",
       "      <td>Tettnanger (DE)</td>\n",
       "      <td>Boil</td>\n",
       "    </tr>\n",
       "    <tr>\n",
       "      <th>6707</th>\n",
       "      <td>0.0</td>\n",
       "      <td>oz</td>\n",
       "      <td>Pellet</td>\n",
       "      <td>False</td>\n",
       "      <td>Mosaic</td>\n",
       "      <td>Dry Hop</td>\n",
       "    </tr>\n",
       "    <tr>\n",
       "      <th>7250</th>\n",
       "      <td>0.0</td>\n",
       "      <td>oz</td>\n",
       "      <td>Leaf</td>\n",
       "      <td>True</td>\n",
       "      <td>Cascade (US)</td>\n",
       "      <td>Boil</td>\n",
       "    </tr>\n",
       "    <tr>\n",
       "      <th>7444</th>\n",
       "      <td>0.0</td>\n",
       "      <td>oz</td>\n",
       "      <td>Pellet</td>\n",
       "      <td>False</td>\n",
       "      <td>Hop Shot</td>\n",
       "      <td>Boil</td>\n",
       "    </tr>\n",
       "    <tr>\n",
       "      <th>8345</th>\n",
       "      <td>0.0</td>\n",
       "      <td>oz</td>\n",
       "      <td>Pellet</td>\n",
       "      <td>True</td>\n",
       "      <td>Ahtanum (US)</td>\n",
       "      <td>Dry Hop</td>\n",
       "    </tr>\n",
       "    <tr>\n",
       "      <th>8346</th>\n",
       "      <td>0.0</td>\n",
       "      <td>oz</td>\n",
       "      <td>Pellet</td>\n",
       "      <td>True</td>\n",
       "      <td>Citra (US)</td>\n",
       "      <td>Dry Hop</td>\n",
       "    </tr>\n",
       "    <tr>\n",
       "      <th>8347</th>\n",
       "      <td>0.0</td>\n",
       "      <td>oz</td>\n",
       "      <td>Pellet</td>\n",
       "      <td>True</td>\n",
       "      <td>Apollo (US)</td>\n",
       "      <td>Dry Hop</td>\n",
       "    </tr>\n",
       "    <tr>\n",
       "      <th>8644</th>\n",
       "      <td>0.0</td>\n",
       "      <td>oz</td>\n",
       "      <td>Pellet</td>\n",
       "      <td>True</td>\n",
       "      <td>Citra (US)</td>\n",
       "      <td>Boil</td>\n",
       "    </tr>\n",
       "    <tr>\n",
       "      <th>8645</th>\n",
       "      <td>0.0</td>\n",
       "      <td>oz</td>\n",
       "      <td>Pellet</td>\n",
       "      <td>True</td>\n",
       "      <td>Sorachi Ace (JP)</td>\n",
       "      <td>Boil</td>\n",
       "    </tr>\n",
       "    <tr>\n",
       "      <th>9396</th>\n",
       "      <td>0.0</td>\n",
       "      <td>oz</td>\n",
       "      <td>Leaf</td>\n",
       "      <td>True</td>\n",
       "      <td>Simcoe (US)</td>\n",
       "      <td>Whirlpool</td>\n",
       "    </tr>\n",
       "    <tr>\n",
       "      <th>11081</th>\n",
       "      <td>0.0</td>\n",
       "      <td>oz</td>\n",
       "      <td>Pellet</td>\n",
       "      <td>True</td>\n",
       "      <td>Pride of Ringwood (AU)</td>\n",
       "      <td>First Wort</td>\n",
       "    </tr>\n",
       "    <tr>\n",
       "      <th>12067</th>\n",
       "      <td>0.0</td>\n",
       "      <td>g</td>\n",
       "      <td>Leaf</td>\n",
       "      <td>True</td>\n",
       "      <td>Amarillo (US)</td>\n",
       "      <td>Boil</td>\n",
       "    </tr>\n",
       "    <tr>\n",
       "      <th>13439</th>\n",
       "      <td>0.0</td>\n",
       "      <td>oz</td>\n",
       "      <td>Pellet</td>\n",
       "      <td>True</td>\n",
       "      <td>Williamette (US)</td>\n",
       "      <td>Boil</td>\n",
       "    </tr>\n",
       "    <tr>\n",
       "      <th>15063</th>\n",
       "      <td>0.0</td>\n",
       "      <td>oz</td>\n",
       "      <td>Leaf</td>\n",
       "      <td>True</td>\n",
       "      <td>Centennial (US)</td>\n",
       "      <td>Boil</td>\n",
       "    </tr>\n",
       "    <tr>\n",
       "      <th>15386</th>\n",
       "      <td>0.0</td>\n",
       "      <td>oz</td>\n",
       "      <td>Pellet</td>\n",
       "      <td>True</td>\n",
       "      <td>Simcoe (US)</td>\n",
       "      <td>Dry Hop</td>\n",
       "    </tr>\n",
       "    <tr>\n",
       "      <th>15387</th>\n",
       "      <td>0.0</td>\n",
       "      <td>oz</td>\n",
       "      <td>Pellet</td>\n",
       "      <td>True</td>\n",
       "      <td>Columbus (US)</td>\n",
       "      <td>Dry Hop</td>\n",
       "    </tr>\n",
       "    <tr>\n",
       "      <th>15388</th>\n",
       "      <td>0.0</td>\n",
       "      <td>oz</td>\n",
       "      <td>Pellet</td>\n",
       "      <td>True</td>\n",
       "      <td>Amarillo (US)</td>\n",
       "      <td>Dry Hop</td>\n",
       "    </tr>\n",
       "    <tr>\n",
       "      <th>15389</th>\n",
       "      <td>0.0</td>\n",
       "      <td>oz</td>\n",
       "      <td>Pellet</td>\n",
       "      <td>True</td>\n",
       "      <td>Pacific Jade (NZ)</td>\n",
       "      <td>Dry Hop</td>\n",
       "    </tr>\n",
       "    <tr>\n",
       "      <th>15390</th>\n",
       "      <td>0.0</td>\n",
       "      <td>oz</td>\n",
       "      <td>Pellet</td>\n",
       "      <td>True</td>\n",
       "      <td>Centennial (US)</td>\n",
       "      <td>Dry Hop</td>\n",
       "    </tr>\n",
       "    <tr>\n",
       "      <th>15391</th>\n",
       "      <td>0.0</td>\n",
       "      <td>oz</td>\n",
       "      <td>Pellet</td>\n",
       "      <td>True</td>\n",
       "      <td>Amarillo (US)</td>\n",
       "      <td>Whirlpool</td>\n",
       "    </tr>\n",
       "    <tr>\n",
       "      <th>15392</th>\n",
       "      <td>0.0</td>\n",
       "      <td>oz</td>\n",
       "      <td>Pellet</td>\n",
       "      <td>True</td>\n",
       "      <td>Columbus (US)</td>\n",
       "      <td>Whirlpool</td>\n",
       "    </tr>\n",
       "    <tr>\n",
       "      <th>15393</th>\n",
       "      <td>0.0</td>\n",
       "      <td>oz</td>\n",
       "      <td>Pellet</td>\n",
       "      <td>True</td>\n",
       "      <td>Simcoe (US)</td>\n",
       "      <td>Whirlpool</td>\n",
       "    </tr>\n",
       "    <tr>\n",
       "      <th>15394</th>\n",
       "      <td>0.0</td>\n",
       "      <td>oz</td>\n",
       "      <td>Pellet</td>\n",
       "      <td>True</td>\n",
       "      <td>Centennial (US)</td>\n",
       "      <td>Whirlpool</td>\n",
       "    </tr>\n",
       "    <tr>\n",
       "      <th>15395</th>\n",
       "      <td>0.0</td>\n",
       "      <td>oz</td>\n",
       "      <td>Pellet</td>\n",
       "      <td>True</td>\n",
       "      <td>Pacific Jade (NZ)</td>\n",
       "      <td>Whirlpool</td>\n",
       "    </tr>\n",
       "    <tr>\n",
       "      <th>16632</th>\n",
       "      <td>0.0</td>\n",
       "      <td>oz</td>\n",
       "      <td>Pellet</td>\n",
       "      <td>True</td>\n",
       "      <td>Saphir (DE)</td>\n",
       "      <td>Boil</td>\n",
       "    </tr>\n",
       "  </tbody>\n",
       "</table>\n",
       "</div>"
      ],
      "text/plain": [
       "       alpha amount_unit    form  generic                    name         use\n",
       "3439     0.0          oz  Pellet     True           Amarillo (US)        Boil\n",
       "4340     0.0           g  Pellet     True            Cascade (US)     Dry Hop\n",
       "4341     0.0           g  Pellet     True              Citra (US)     Dry Hop\n",
       "4781     0.0           g  Pellet     True           Amarillo (US)     Dry Hop\n",
       "4782     0.0           g    Leaf     True             Simcoe (US)     Dry Hop\n",
       "5498     0.0           g  Pellet     True         Tettnanger (DE)        Boil\n",
       "6707     0.0          oz  Pellet    False                  Mosaic     Dry Hop\n",
       "7250     0.0          oz    Leaf     True            Cascade (US)        Boil\n",
       "7444     0.0          oz  Pellet    False                Hop Shot        Boil\n",
       "8345     0.0          oz  Pellet     True            Ahtanum (US)     Dry Hop\n",
       "8346     0.0          oz  Pellet     True              Citra (US)     Dry Hop\n",
       "8347     0.0          oz  Pellet     True             Apollo (US)     Dry Hop\n",
       "8644     0.0          oz  Pellet     True              Citra (US)        Boil\n",
       "8645     0.0          oz  Pellet     True        Sorachi Ace (JP)        Boil\n",
       "9396     0.0          oz    Leaf     True             Simcoe (US)   Whirlpool\n",
       "11081    0.0          oz  Pellet     True  Pride of Ringwood (AU)  First Wort\n",
       "12067    0.0           g    Leaf     True           Amarillo (US)        Boil\n",
       "13439    0.0          oz  Pellet     True        Williamette (US)        Boil\n",
       "15063    0.0          oz    Leaf     True         Centennial (US)        Boil\n",
       "15386    0.0          oz  Pellet     True             Simcoe (US)     Dry Hop\n",
       "15387    0.0          oz  Pellet     True           Columbus (US)     Dry Hop\n",
       "15388    0.0          oz  Pellet     True           Amarillo (US)     Dry Hop\n",
       "15389    0.0          oz  Pellet     True       Pacific Jade (NZ)     Dry Hop\n",
       "15390    0.0          oz  Pellet     True         Centennial (US)     Dry Hop\n",
       "15391    0.0          oz  Pellet     True           Amarillo (US)   Whirlpool\n",
       "15392    0.0          oz  Pellet     True           Columbus (US)   Whirlpool\n",
       "15393    0.0          oz  Pellet     True             Simcoe (US)   Whirlpool\n",
       "15394    0.0          oz  Pellet     True         Centennial (US)   Whirlpool\n",
       "15395    0.0          oz  Pellet     True       Pacific Jade (NZ)   Whirlpool\n",
       "16632    0.0          oz  Pellet     True             Saphir (DE)        Boil"
      ]
     },
     "execution_count": 66,
     "metadata": {},
     "output_type": "execute_result"
    }
   ],
   "source": [
    "hops[hops['alpha']==0]"
   ]
  },
  {
   "cell_type": "markdown",
   "metadata": {},
   "source": [
    "Hops should not have 0 alpha acid, so recipes with these hops should be removed as the information is not valid"
   ]
  },
  {
   "cell_type": "code",
   "execution_count": 67,
   "metadata": {},
   "outputs": [
    {
     "data": {
      "text/html": [
       "<div>\n",
       "<style scoped>\n",
       "    .dataframe tbody tr th:only-of-type {\n",
       "        vertical-align: middle;\n",
       "    }\n",
       "\n",
       "    .dataframe tbody tr th {\n",
       "        vertical-align: top;\n",
       "    }\n",
       "\n",
       "    .dataframe thead th {\n",
       "        text-align: right;\n",
       "    }\n",
       "</style>\n",
       "<table border=\"1\" class=\"dataframe\">\n",
       "  <thead>\n",
       "    <tr style=\"text-align: right;\">\n",
       "      <th></th>\n",
       "      <th>alpha</th>\n",
       "      <th>amount_unit</th>\n",
       "      <th>form</th>\n",
       "      <th>generic</th>\n",
       "      <th>name</th>\n",
       "      <th>use</th>\n",
       "    </tr>\n",
       "  </thead>\n",
       "  <tbody>\n",
       "    <tr>\n",
       "      <th>594</th>\n",
       "      <td>0.045</td>\n",
       "      <td>oz</td>\n",
       "      <td>Pellet</td>\n",
       "      <td>True</td>\n",
       "      <td>heirloom/homegrown</td>\n",
       "      <td>Boil</td>\n",
       "    </tr>\n",
       "    <tr>\n",
       "      <th>1474</th>\n",
       "      <td>0.045</td>\n",
       "      <td>oz</td>\n",
       "      <td>Leaf</td>\n",
       "      <td>True</td>\n",
       "      <td>heirloom/homegrown</td>\n",
       "      <td>Boil</td>\n",
       "    </tr>\n",
       "    <tr>\n",
       "      <th>1557</th>\n",
       "      <td>0.045</td>\n",
       "      <td>oz</td>\n",
       "      <td>Pellet</td>\n",
       "      <td>True</td>\n",
       "      <td>heirloom/homegrown</td>\n",
       "      <td>Dry Hop</td>\n",
       "    </tr>\n",
       "    <tr>\n",
       "      <th>6210</th>\n",
       "      <td>0.045</td>\n",
       "      <td>oz</td>\n",
       "      <td>Leaf</td>\n",
       "      <td>True</td>\n",
       "      <td>heirloom/homegrown</td>\n",
       "      <td>Dry Hop</td>\n",
       "    </tr>\n",
       "    <tr>\n",
       "      <th>9642</th>\n",
       "      <td>0.045</td>\n",
       "      <td>oz</td>\n",
       "      <td>Pellet</td>\n",
       "      <td>True</td>\n",
       "      <td>heirloom/homegrown</td>\n",
       "      <td>Mash</td>\n",
       "    </tr>\n",
       "    <tr>\n",
       "      <th>10634</th>\n",
       "      <td>0.045</td>\n",
       "      <td>oz</td>\n",
       "      <td>Pellet</td>\n",
       "      <td>True</td>\n",
       "      <td>heirloom/homegrown</td>\n",
       "      <td>First Wort</td>\n",
       "    </tr>\n",
       "    <tr>\n",
       "      <th>12319</th>\n",
       "      <td>0.045</td>\n",
       "      <td>g</td>\n",
       "      <td>Pellet</td>\n",
       "      <td>True</td>\n",
       "      <td>heirloom/homegrown</td>\n",
       "      <td>Boil</td>\n",
       "    </tr>\n",
       "    <tr>\n",
       "      <th>12320</th>\n",
       "      <td>0.045</td>\n",
       "      <td>g</td>\n",
       "      <td>Pellet</td>\n",
       "      <td>True</td>\n",
       "      <td>heirloom/homegrown</td>\n",
       "      <td>Dry Hop</td>\n",
       "    </tr>\n",
       "    <tr>\n",
       "      <th>13363</th>\n",
       "      <td>0.146</td>\n",
       "      <td>oz</td>\n",
       "      <td>Pellet</td>\n",
       "      <td>True</td>\n",
       "      <td>heirloom/homegrown</td>\n",
       "      <td>First Wort</td>\n",
       "    </tr>\n",
       "    <tr>\n",
       "      <th>13364</th>\n",
       "      <td>0.146</td>\n",
       "      <td>oz</td>\n",
       "      <td>Pellet</td>\n",
       "      <td>True</td>\n",
       "      <td>heirloom/homegrown</td>\n",
       "      <td>Boil</td>\n",
       "    </tr>\n",
       "    <tr>\n",
       "      <th>13365</th>\n",
       "      <td>0.145</td>\n",
       "      <td>oz</td>\n",
       "      <td>Pellet</td>\n",
       "      <td>True</td>\n",
       "      <td>heirloom/homegrown</td>\n",
       "      <td>Boil</td>\n",
       "    </tr>\n",
       "    <tr>\n",
       "      <th>13366</th>\n",
       "      <td>0.145</td>\n",
       "      <td>oz</td>\n",
       "      <td>Pellet</td>\n",
       "      <td>True</td>\n",
       "      <td>heirloom/homegrown</td>\n",
       "      <td>Dry Hop</td>\n",
       "    </tr>\n",
       "    <tr>\n",
       "      <th>13504</th>\n",
       "      <td>0.045</td>\n",
       "      <td>g</td>\n",
       "      <td>Leaf</td>\n",
       "      <td>True</td>\n",
       "      <td>heirloom/homegrown</td>\n",
       "      <td>Boil</td>\n",
       "    </tr>\n",
       "    <tr>\n",
       "      <th>15913</th>\n",
       "      <td>0.010</td>\n",
       "      <td>oz</td>\n",
       "      <td>Leaf</td>\n",
       "      <td>True</td>\n",
       "      <td>heirloom/homegrown</td>\n",
       "      <td>First Wort</td>\n",
       "    </tr>\n",
       "    <tr>\n",
       "      <th>15914</th>\n",
       "      <td>0.010</td>\n",
       "      <td>oz</td>\n",
       "      <td>Leaf</td>\n",
       "      <td>True</td>\n",
       "      <td>heirloom/homegrown</td>\n",
       "      <td>Boil</td>\n",
       "    </tr>\n",
       "  </tbody>\n",
       "</table>\n",
       "</div>"
      ],
      "text/plain": [
       "       alpha amount_unit    form  generic                name         use\n",
       "594    0.045          oz  Pellet     True  heirloom/homegrown        Boil\n",
       "1474   0.045          oz    Leaf     True  heirloom/homegrown        Boil\n",
       "1557   0.045          oz  Pellet     True  heirloom/homegrown     Dry Hop\n",
       "6210   0.045          oz    Leaf     True  heirloom/homegrown     Dry Hop\n",
       "9642   0.045          oz  Pellet     True  heirloom/homegrown        Mash\n",
       "10634  0.045          oz  Pellet     True  heirloom/homegrown  First Wort\n",
       "12319  0.045           g  Pellet     True  heirloom/homegrown        Boil\n",
       "12320  0.045           g  Pellet     True  heirloom/homegrown     Dry Hop\n",
       "13363  0.146          oz  Pellet     True  heirloom/homegrown  First Wort\n",
       "13364  0.146          oz  Pellet     True  heirloom/homegrown        Boil\n",
       "13365  0.145          oz  Pellet     True  heirloom/homegrown        Boil\n",
       "13366  0.145          oz  Pellet     True  heirloom/homegrown     Dry Hop\n",
       "13504  0.045           g    Leaf     True  heirloom/homegrown        Boil\n",
       "15913  0.010          oz    Leaf     True  heirloom/homegrown  First Wort\n",
       "15914  0.010          oz    Leaf     True  heirloom/homegrown        Boil"
      ]
     },
     "execution_count": 67,
     "metadata": {},
     "output_type": "execute_result"
    }
   ],
   "source": [
    "hops[hops['name'] == 'heirloom/homegrown']"
   ]
  },
  {
   "cell_type": "markdown",
   "metadata": {},
   "source": [
    "Recipes with homegrown hops will not be considered for reasons mentioned above about trustworthiness of measurements"
   ]
  },
  {
   "cell_type": "code",
   "execution_count": 81,
   "metadata": {},
   "outputs": [
    {
     "data": {
      "text/plain": [
       "Index(['alpha', 'amount_unit', 'form', 'generic', 'name', 'use'], dtype='object')"
      ]
     },
     "execution_count": 81,
     "metadata": {},
     "output_type": "execute_result"
    }
   ],
   "source": [
    "hops.columns"
   ]
  },
  {
   "cell_type": "code",
   "execution_count": 89,
   "metadata": {},
   "outputs": [],
   "source": [
    "def hop_dropper(indices):\n",
    "    names = [hops.loc[x, 'name'] for x in indices]\n",
    "    alphas = [hops.loc[x, 'alpha'] for x in indices]\n",
    "    forms = [hops.loc[x, 'form'] for x in indices]\n",
    "    for i in df.index:\n",
    "        d = df.loc[i, 'hops'].values()\n",
    "        for j in d:\n",
    "            if j['name'] in names:\n",
    "                if j['alpha'] == alphas[names.index(j['name'])] and j['form'] == forms[names.index(j['name'])]:\n",
    "                    df.drop(i, axis=0, inplace=True)\n",
    "                    break\n",
    "    return None"
   ]
  },
  {
   "cell_type": "code",
   "execution_count": 90,
   "metadata": {
    "scrolled": true
   },
   "outputs": [],
   "source": [
    "drop_indices = list(hops[hops['alpha']==0].index) + list(hops[hops['name'] == 'heirloom/homegrown'].index)\n",
    "hop_dropper(drop_indices)"
   ]
  },
  {
   "cell_type": "code",
   "execution_count": 91,
   "metadata": {},
   "outputs": [
    {
     "data": {
      "text/plain": [
       "(81198, 15)"
      ]
     },
     "execution_count": 91,
     "metadata": {},
     "output_type": "execute_result"
    }
   ],
   "source": [
    "df.shape"
   ]
  },
  {
   "cell_type": "code",
   "execution_count": null,
   "metadata": {},
   "outputs": [],
   "source": [
    "# Create an empty list\n",
    "hop_list = []\n",
    "\n",
    "# Iterate through all rows\n",
    "for i in df.loc[:, 'hops'].values:\n",
    "    # Iterate through all entries in hop dictionary\n",
    "    for j in i.values():\n",
    "        temp = j.copy()\n",
    "        # Remove unnecessary columns\n",
    "        del temp['amount']\n",
    "        del temp['time']\n",
    "        # If the hop is not a duplicate, add it to the list\n",
    "        if temp not in hop_list:\n",
    "            hop_list.append(temp)\n",
    "\n",
    "# Make a dataframe from the list of dictionaries\n",
    "hops = pd.DataFrame(hop_list)"
   ]
  },
  {
   "cell_type": "code",
   "execution_count": null,
   "metadata": {},
   "outputs": [],
   "source": [
    "hops['name'] = [h.lower() for h in hops.name]"
   ]
  },
  {
   "cell_type": "markdown",
   "metadata": {},
   "source": [
    "## Cleaning Yeast"
   ]
  },
  {
   "cell_type": "code",
   "execution_count": 92,
   "metadata": {},
   "outputs": [
    {
     "data": {
      "text/html": [
       "<div>\n",
       "<style scoped>\n",
       "    .dataframe tbody tr th:only-of-type {\n",
       "        vertical-align: middle;\n",
       "    }\n",
       "\n",
       "    .dataframe tbody tr th {\n",
       "        vertical-align: top;\n",
       "    }\n",
       "\n",
       "    .dataframe thead th {\n",
       "        text-align: right;\n",
       "    }\n",
       "</style>\n",
       "<table border=\"1\" class=\"dataframe\">\n",
       "  <thead>\n",
       "    <tr style=\"text-align: right;\">\n",
       "      <th></th>\n",
       "      <th>name</th>\n",
       "      <th>yeast_attenuation</th>\n",
       "      <th>yeast_lab</th>\n",
       "    </tr>\n",
       "  </thead>\n",
       "  <tbody>\n",
       "    <tr>\n",
       "      <th>0</th>\n",
       "      <td>1.5\\n\\noz</td>\n",
       "      <td>0.80</td>\n",
       "      <td>Wyeast</td>\n",
       "    </tr>\n",
       "    <tr>\n",
       "      <th>1</th>\n",
       "      <td>Dry English Ale Yeast</td>\n",
       "      <td>0.75</td>\n",
       "      <td>White Labs WLP007</td>\n",
       "    </tr>\n",
       "    <tr>\n",
       "      <th>2</th>\n",
       "      <td>Denny's Favorite 50</td>\n",
       "      <td>0.77</td>\n",
       "      <td>Wyeast 1450</td>\n",
       "    </tr>\n",
       "    <tr>\n",
       "      <th>3</th>\n",
       "      <td>Northwest Ale</td>\n",
       "      <td>0.69</td>\n",
       "      <td>Wyeast 1332</td>\n",
       "    </tr>\n",
       "    <tr>\n",
       "      <th>4</th>\n",
       "      <td>Safale S-04</td>\n",
       "      <td>0.73</td>\n",
       "      <td>Fermentis S-04</td>\n",
       "    </tr>\n",
       "  </tbody>\n",
       "</table>\n",
       "</div>"
      ],
      "text/plain": [
       "                    name  yeast_attenuation          yeast_lab\n",
       "0              1.5\\n\\noz               0.80             Wyeast\n",
       "1  Dry English Ale Yeast               0.75  White Labs WLP007\n",
       "2    Denny's Favorite 50               0.77        Wyeast 1450\n",
       "3          Northwest Ale               0.69        Wyeast 1332\n",
       "4            Safale S-04               0.73     Fermentis S-04"
      ]
     },
     "execution_count": 92,
     "metadata": {},
     "output_type": "execute_result"
    }
   ],
   "source": [
    "# Create an empty list\n",
    "yeast_list = []\n",
    "\n",
    "# Iterate through all rows\n",
    "for i in df.loc[:, 'yeast'].values:\n",
    "    # Iterate through all entries in yeast dictionary\n",
    "    for j in i.values():\n",
    "        # If the yeast is not a duplicate, add it to the list\n",
    "        if j not in yeast_list:\n",
    "            yeast_list.append(j)\n",
    "\n",
    "# Make a dataframe from the list of dictionaries\n",
    "yeasts = pd.DataFrame(yeast_list)\n",
    "yeasts.head()"
   ]
  },
  {
   "cell_type": "code",
   "execution_count": 93,
   "metadata": {},
   "outputs": [
    {
     "data": {
      "text/plain": [
       "(3574, 3)"
      ]
     },
     "execution_count": 93,
     "metadata": {},
     "output_type": "execute_result"
    }
   ],
   "source": [
    "yeasts.shape"
   ]
  },
  {
   "cell_type": "code",
   "execution_count": 96,
   "metadata": {},
   "outputs": [
    {
     "data": {
      "text/html": [
       "<div>\n",
       "<style scoped>\n",
       "    .dataframe tbody tr th:only-of-type {\n",
       "        vertical-align: middle;\n",
       "    }\n",
       "\n",
       "    .dataframe tbody tr th {\n",
       "        vertical-align: top;\n",
       "    }\n",
       "\n",
       "    .dataframe thead th {\n",
       "        text-align: right;\n",
       "    }\n",
       "</style>\n",
       "<table border=\"1\" class=\"dataframe\">\n",
       "  <thead>\n",
       "    <tr style=\"text-align: right;\">\n",
       "      <th></th>\n",
       "      <th>name</th>\n",
       "      <th>yeast_attenuation</th>\n",
       "      <th>yeast_lab</th>\n",
       "    </tr>\n",
       "  </thead>\n",
       "  <tbody>\n",
       "    <tr>\n",
       "      <th>738</th>\n",
       "      <td>Pediococcus</td>\n",
       "      <td>0.0</td>\n",
       "      <td>Wyeast 5733</td>\n",
       "    </tr>\n",
       "    <tr>\n",
       "      <th>3407</th>\n",
       "      <td>0.5\\n\\noz</td>\n",
       "      <td>0.0</td>\n",
       "      <td>Wyeast</td>\n",
       "    </tr>\n",
       "  </tbody>\n",
       "</table>\n",
       "</div>"
      ],
      "text/plain": [
       "             name  yeast_attenuation    yeast_lab\n",
       "738   Pediococcus                0.0  Wyeast 5733\n",
       "3407    0.5\\n\\noz                0.0       Wyeast"
      ]
     },
     "execution_count": 96,
     "metadata": {},
     "output_type": "execute_result"
    }
   ],
   "source": [
    "yeasts[yeasts['yeast_attenuation'] ==0]"
   ]
  },
  {
   "cell_type": "code",
   "execution_count": 98,
   "metadata": {},
   "outputs": [
    {
     "data": {
      "text/html": [
       "<div>\n",
       "<style scoped>\n",
       "    .dataframe tbody tr th:only-of-type {\n",
       "        vertical-align: middle;\n",
       "    }\n",
       "\n",
       "    .dataframe tbody tr th {\n",
       "        vertical-align: top;\n",
       "    }\n",
       "\n",
       "    .dataframe thead th {\n",
       "        text-align: right;\n",
       "    }\n",
       "</style>\n",
       "<table border=\"1\" class=\"dataframe\">\n",
       "  <thead>\n",
       "    <tr style=\"text-align: right;\">\n",
       "      <th></th>\n",
       "      <th>name</th>\n",
       "      <th>yeast_attenuation</th>\n",
       "      <th>yeast_lab</th>\n",
       "    </tr>\n",
       "  </thead>\n",
       "  <tbody>\n",
       "    <tr>\n",
       "      <th>738</th>\n",
       "      <td>Pediococcus</td>\n",
       "      <td>0.00</td>\n",
       "      <td>Wyeast 5733</td>\n",
       "    </tr>\n",
       "    <tr>\n",
       "      <th>843</th>\n",
       "      <td>Pediococcus</td>\n",
       "      <td>0.80</td>\n",
       "      <td>Wyeast 5733</td>\n",
       "    </tr>\n",
       "    <tr>\n",
       "      <th>2642</th>\n",
       "      <td>Pediococcus</td>\n",
       "      <td>0.75</td>\n",
       "      <td>Wyeast 5733</td>\n",
       "    </tr>\n",
       "    <tr>\n",
       "      <th>2697</th>\n",
       "      <td>Pediococcus</td>\n",
       "      <td>0.98</td>\n",
       "      <td>Wyeast 5733</td>\n",
       "    </tr>\n",
       "    <tr>\n",
       "      <th>2841</th>\n",
       "      <td>Pediococcus</td>\n",
       "      <td>0.69</td>\n",
       "      <td>Wyeast 5733</td>\n",
       "    </tr>\n",
       "    <tr>\n",
       "      <th>3079</th>\n",
       "      <td>Pediococcus</td>\n",
       "      <td>0.95</td>\n",
       "      <td>Wyeast 5733</td>\n",
       "    </tr>\n",
       "    <tr>\n",
       "      <th>3511</th>\n",
       "      <td>Pediococcus</td>\n",
       "      <td>0.78</td>\n",
       "      <td>Wyeast 5733</td>\n",
       "    </tr>\n",
       "  </tbody>\n",
       "</table>\n",
       "</div>"
      ],
      "text/plain": [
       "             name  yeast_attenuation    yeast_lab\n",
       "738   Pediococcus               0.00  Wyeast 5733\n",
       "843   Pediococcus               0.80  Wyeast 5733\n",
       "2642  Pediococcus               0.75  Wyeast 5733\n",
       "2697  Pediococcus               0.98  Wyeast 5733\n",
       "2841  Pediococcus               0.69  Wyeast 5733\n",
       "3079  Pediococcus               0.95  Wyeast 5733\n",
       "3511  Pediococcus               0.78  Wyeast 5733"
      ]
     },
     "execution_count": 98,
     "metadata": {},
     "output_type": "execute_result"
    }
   ],
   "source": [
    "yeasts[yeasts['name'] == 'Pediococcus']"
   ]
  },
  {
   "cell_type": "code",
   "execution_count": 99,
   "metadata": {},
   "outputs": [],
   "source": [
    "num_yeast = []\n",
    "for i in df.index:\n",
    "    d = df.loc[i, 'yeast']\n",
    "    num_yeast.append(len(d))\n",
    "    for j in d.values():\n",
    "        if j['name'] == 'Pediococcus' or j['name'] == '0.5\\n\\noz':\n",
    "            if j['yeast_attenuation'] == 0:\n",
    "                df.drop(i, axis=0, inplace=True)\n",
    "                break"
   ]
  },
  {
   "cell_type": "code",
   "execution_count": 102,
   "metadata": {},
   "outputs": [
    {
     "data": {
      "text/plain": [
       "77339"
      ]
     },
     "execution_count": 102,
     "metadata": {},
     "output_type": "execute_result"
    }
   ],
   "source": [
    "num_yeast.count(1)"
   ]
  },
  {
   "cell_type": "code",
   "execution_count": 104,
   "metadata": {},
   "outputs": [
    {
     "data": {
      "text/plain": [
       "3414"
      ]
     },
     "execution_count": 104,
     "metadata": {},
     "output_type": "execute_result"
    }
   ],
   "source": [
    "num_yeast.count(2)"
   ]
  },
  {
   "cell_type": "code",
   "execution_count": 105,
   "metadata": {},
   "outputs": [
    {
     "data": {
      "text/plain": [
       "438"
      ]
     },
     "execution_count": 105,
     "metadata": {},
     "output_type": "execute_result"
    }
   ],
   "source": [
    "df.shape[0] - 77339 - 3414"
   ]
  },
  {
   "cell_type": "code",
   "execution_count": 107,
   "metadata": {},
   "outputs": [
    {
     "data": {
      "text/plain": [
       "90"
      ]
     },
     "execution_count": 107,
     "metadata": {},
     "output_type": "execute_result"
    }
   ],
   "source": [
    "num_yeast.count(4)"
   ]
  },
  {
   "cell_type": "markdown",
   "metadata": {},
   "source": [
    "---\n",
    "## Converting Weights of Fermentables and Hops\n",
    "\n",
    "First, I need to write a function to convert each of the different units for weight that exist in the data set to a singular unit. For fermentables, I'll use pounds, and for hops I'll use ounces."
   ]
  },
  {
   "cell_type": "code",
   "execution_count": null,
   "metadata": {},
   "outputs": [],
   "source": [
    "def convert_to_pounds(amount, unit):\n",
    "    if unit == 'lb':\n",
    "        return amount\n",
    "    if unit == 'oz':\n",
    "        return round(amount/16, 3)\n",
    "    if unit == 'g':\n",
    "        return round(amount * 0.00220462, 3)\n",
    "    if unit == 'kg':\n",
    "        return round(amount * 2.20462, 3)\n",
    "    \n",
    "def convert_to_oz(amount, unit):\n",
    "    if unit == 'oz':\n",
    "        return amount\n",
    "    if unit == 'lb':\n",
    "        return amount*16\n",
    "    if unit == 'g':\n",
    "        return round(amount*0.035274, 3)"
   ]
  },
  {
   "cell_type": "code",
   "execution_count": null,
   "metadata": {},
   "outputs": [],
   "source": []
  },
  {
   "cell_type": "code",
   "execution_count": null,
   "metadata": {},
   "outputs": [],
   "source": []
  },
  {
   "cell_type": "code",
   "execution_count": null,
   "metadata": {},
   "outputs": [],
   "source": []
  },
  {
   "cell_type": "code",
   "execution_count": null,
   "metadata": {},
   "outputs": [],
   "source": []
  },
  {
   "cell_type": "code",
   "execution_count": null,
   "metadata": {},
   "outputs": [],
   "source": []
  },
  {
   "cell_type": "code",
   "execution_count": null,
   "metadata": {},
   "outputs": [],
   "source": []
  },
  {
   "cell_type": "code",
   "execution_count": null,
   "metadata": {},
   "outputs": [],
   "source": []
  },
  {
   "cell_type": "code",
   "execution_count": null,
   "metadata": {},
   "outputs": [],
   "source": []
  },
  {
   "cell_type": "code",
   "execution_count": null,
   "metadata": {},
   "outputs": [],
   "source": [
    "styles = pd.read_csv('../Data/styleData.csv')\n",
    "recipes = pd.read_csv('../Data/recipeData.csv')"
   ]
  },
  {
   "cell_type": "code",
   "execution_count": null,
   "metadata": {},
   "outputs": [],
   "source": [
    "styles.head()"
   ]
  },
  {
   "cell_type": "code",
   "execution_count": null,
   "metadata": {},
   "outputs": [],
   "source": [
    "styles.info()"
   ]
  },
  {
   "cell_type": "code",
   "execution_count": null,
   "metadata": {},
   "outputs": [],
   "source": [
    "styles.isnull().sum()"
   ]
  },
  {
   "cell_type": "code",
   "execution_count": null,
   "metadata": {},
   "outputs": [],
   "source": [
    "styles['Style'].sort_values()"
   ]
  },
  {
   "cell_type": "code",
   "execution_count": null,
   "metadata": {},
   "outputs": [],
   "source": [
    "styles.loc[108:112, :]"
   ]
  },
  {
   "cell_type": "code",
   "execution_count": null,
   "metadata": {},
   "outputs": [],
   "source": [
    "recipes.info()"
   ]
  },
  {
   "cell_type": "code",
   "execution_count": null,
   "metadata": {},
   "outputs": [],
   "source": [
    "recipes.isnull().sum()"
   ]
  },
  {
   "cell_type": "code",
   "execution_count": null,
   "metadata": {},
   "outputs": [],
   "source": [
    "beer_advocate = pd.read_csv('../Data/beer_reviews.csv')"
   ]
  },
  {
   "cell_type": "code",
   "execution_count": null,
   "metadata": {},
   "outputs": [],
   "source": [
    "beer_advocate.head()"
   ]
  },
  {
   "cell_type": "code",
   "execution_count": null,
   "metadata": {},
   "outputs": [],
   "source": [
    "beer_advocate.info()"
   ]
  },
  {
   "cell_type": "code",
   "execution_count": null,
   "metadata": {},
   "outputs": [],
   "source": [
    "beer_advocate.isnull().sum()"
   ]
  },
  {
   "cell_type": "code",
   "execution_count": null,
   "metadata": {},
   "outputs": [],
   "source": [
    "67785/beer_advocate.shape[0]"
   ]
  },
  {
   "cell_type": "code",
   "execution_count": null,
   "metadata": {},
   "outputs": [],
   "source": [
    "len(beer_advocate[beer_advocate['beer_abv'].isnull()]['beer_beerid'].unique())"
   ]
  },
  {
   "cell_type": "code",
   "execution_count": null,
   "metadata": {},
   "outputs": [],
   "source": [
    "overlap_names = set(beer_advocate[beer_advocate['beer_abv'].isnull()]['beer_name'].unique()).intersection(set(beer_advocate[beer_advocate['beer_abv'].notnull()]['beer_name'].unique()))"
   ]
  },
  {
   "cell_type": "code",
   "execution_count": null,
   "metadata": {},
   "outputs": [],
   "source": [
    "overlap_names"
   ]
  },
  {
   "cell_type": "code",
   "execution_count": null,
   "metadata": {},
   "outputs": [],
   "source": [
    "beer_advocate[beer_advocate['beer_name'] == 'Apricot Ale']"
   ]
  },
  {
   "cell_type": "code",
   "execution_count": null,
   "metadata": {},
   "outputs": [],
   "source": [
    "len(beer_advocate['review_profilename'].unique())"
   ]
  },
  {
   "cell_type": "code",
   "execution_count": null,
   "metadata": {},
   "outputs": [],
   "source": [
    "for col in beer_advocate.columns:\n",
    "    print(col, len(beer_advocate[col].unique()))"
   ]
  },
  {
   "cell_type": "code",
   "execution_count": null,
   "metadata": {},
   "outputs": [],
   "source": [
    "beer_advocate['beer_abv'].describe()"
   ]
  },
  {
   "cell_type": "code",
   "execution_count": null,
   "metadata": {},
   "outputs": [],
   "source": [
    "beer_advocate.sort_values('beer_abv', ascending=False).head()"
   ]
  },
  {
   "cell_type": "code",
   "execution_count": null,
   "metadata": {},
   "outputs": [],
   "source": [
    "beer_advocate[beer_advocate['beer_abv'] > 15].shape"
   ]
  },
  {
   "cell_type": "code",
   "execution_count": null,
   "metadata": {},
   "outputs": [],
   "source": [
    "beer_advocate.groupby('beer_beerid').count()['review_overall'][beer_advocate.groupby('beer_beerid').count()['review_overall'] > 10].shape"
   ]
  },
  {
   "cell_type": "code",
   "execution_count": null,
   "metadata": {},
   "outputs": [],
   "source": [
    "beer_advocate.groupby('beer_name').count()['review_overall'][beer_advocate.groupby('beer_name').count()['review_overall'] > 10].shape"
   ]
  },
  {
   "cell_type": "code",
   "execution_count": null,
   "metadata": {},
   "outputs": [],
   "source": [
    "duplicate_names = []\n",
    "for name in beer_advocate['beer_name'].unique():\n",
    "    if len(beer_advocate[beer_advocate['beer_name'] == name]['beer_beerid'].unique()) > 1:\n",
    "        duplicate"
   ]
  },
  {
   "cell_type": "code",
   "execution_count": null,
   "metadata": {},
   "outputs": [],
   "source": [
    "import requests"
   ]
  },
  {
   "cell_type": "code",
   "execution_count": null,
   "metadata": {},
   "outputs": [],
   "source": [
    "url = 'https://www.brewtoad.com/recipes?page=1&sort=rank'\n",
    "\n",
    "res = requests.get(url)"
   ]
  },
  {
   "cell_type": "code",
   "execution_count": null,
   "metadata": {},
   "outputs": [],
   "source": [
    "from bs4 import BeautifulSoup"
   ]
  },
  {
   "cell_type": "code",
   "execution_count": null,
   "metadata": {},
   "outputs": [],
   "source": [
    "soup = BeautifulSoup(res.content, 'lxml')"
   ]
  },
  {
   "cell_type": "code",
   "execution_count": null,
   "metadata": {},
   "outputs": [],
   "source": [
    "base_url = 'http://www.brewtoad.com'"
   ]
  },
  {
   "cell_type": "code",
   "execution_count": null,
   "metadata": {},
   "outputs": [],
   "source": [
    "recipe_links = soup.find_all('a', attrs={'class': 'recipe-link'})"
   ]
  },
  {
   "cell_type": "code",
   "execution_count": null,
   "metadata": {},
   "outputs": [],
   "source": []
  },
  {
   "cell_type": "code",
   "execution_count": null,
   "metadata": {},
   "outputs": [],
   "source": [
    "recipes = []\n",
    "for i in recipe_links:\n",
    "    # Get new URL\n",
    "    new_url = base_url + i.attrs['href']\n",
    "    \n",
    "    # Use new URL to generate new request\n",
    "    new_res = requests.get(new_url)\n",
    "    \n",
    "    # Create new beautiful soup parser\n",
    "    new_soup = BeautifulSoup(new_res.content, 'lxml')\n",
    "    \n",
    "    #instantiate recipe dictionary\n",
    "    recipe = {}\n",
    "    \n",
    "    # Find Name and Style\n",
    "    recipe['name'] = new_soup.find('h1').text.strip()\n",
    "    recipe['style'] = new_soup.find('div', attrs={'class': 'header-content'}).find('a').text.strip()\n",
    "    \n",
    "    # Find base stats and append to dictionary\n",
    "    base_stats = new_soup.find_all('div', attrs={'class': 'value'})\n",
    "    recipe['OG'] = base_stats[0].text\n",
    "    recipe['FG'] = base_stats[1].text\n",
    "    recipe['IBU'] = base_stats[2].text\n",
    "    recipe['SRM'] = base_stats[3].text\n",
    "    recipe['ABV'] = base_stats[4].text\n",
    "    \n",
    "    # Find fermentables and append to dictionary\n",
    "    grains = new_soup.find('table', attrs={'id': 'fermentables'}).find('tbody').find_all('tr')\n",
    "    fermentables = []\n",
    "    for g in grains:\n",
    "        row = g.find_all('td')\n",
    "        fermentable = {}\n",
    "        fermentable['amount'] = row[0].text.strip()\n",
    "        fermentable['name'] = row[1].text.strip()\n",
    "        fermentable['maltster'] = row[2].text.strip()\n",
    "        fermentable['use'] = row[3].text.strip()\n",
    "        fermentable['PPG'] = row[4].text.strip()\n",
    "        fermentable['color'] = row[5].text.replace('\\n', '')\n",
    "        fermentables.append(fermentable)\n",
    "    recipe['fermentables'] = fermentables\n",
    "    \n",
    "    # Find hops and append to dictionary\n",
    "    hop_table = new_soup.find('table', attrs={'id': 'hops'}).find('tbody').find_all('tr')\n",
    "    hops = []\n",
    "    for h in hop_table:\n",
    "        row = h.find_all('td')\n",
    "        hop = {}\n",
    "        hop['amount'] = row[0].text.replace('\\n', '')\n",
    "        hop['name'] = row[1].text.replace('\\n', '')\n",
    "        hop['time'] = row[2].text.replace('\\n', '')\n",
    "        hop['use'] = row[3].text.replace('\\n', '')\n",
    "        hop['form'] = row[4].text.replace('\\n', '')\n",
    "        hop['alpha'] = row[5].text.replace('\\n', '')\n",
    "        hops.append(hop)\n",
    "    recipe['hops'] = hops\n",
    "    \n",
    "    # Find yeast\n",
    "    "
   ]
  },
  {
   "cell_type": "code",
   "execution_count": null,
   "metadata": {},
   "outputs": [],
   "source": [
    "for i in df.index:\n",
    "    g = "
   ]
  },
  {
   "cell_type": "code",
   "execution_count": null,
   "metadata": {},
   "outputs": [],
   "source": [
    "df.head()"
   ]
  },
  {
   "cell_type": "code",
   "execution_count": null,
   "metadata": {},
   "outputs": [],
   "source": [
    "df.loc[0, 'yeast']"
   ]
  },
  {
   "cell_type": "code",
   "execution_count": null,
   "metadata": {
    "scrolled": true
   },
   "outputs": [],
   "source": [
    "df.loc[0, 'extras']"
   ]
  },
  {
   "cell_type": "code",
   "execution_count": null,
   "metadata": {},
   "outputs": [],
   "source": [
    "all_generic_count = 0\n",
    "full_generic = []\n",
    "\n",
    "for i in df.index:\n",
    "    g = df.loc[i, 'fermentables'].values()\n",
    "    ind_count = 0\n",
    "    for j in g:\n",
    "        if j['generic']:\n",
    "            ind_count += 1\n",
    "    if ind_count != len(g):\n",
    "        full_generic.append(0)\n",
    "        continue\n",
    "    h = df.loc[i, 'hops'].values()\n",
    "    ind_count = 0\n",
    "    for j in h:\n",
    "        if j['generic']:\n",
    "            ind_count += 1\n",
    "    if ind_count != len(h):\n",
    "        full_generic.append(0)\n",
    "        continue\n",
    "    e = df.loc[i, 'extras']\n",
    "    if type(e) == dict:\n",
    "        ind_count=0\n",
    "        for j in e.values():\n",
    "            if j['generic']:\n",
    "                ind_count += 1\n",
    "        if ind_count!= len(e):\n",
    "            full_generic.append(0)\n",
    "            continue\n",
    "    all_generic_count += 1\n",
    "    full_generic.append(1)\n",
    "            \n",
    "        \n",
    "all_generic_count"
   ]
  },
  {
   "cell_type": "code",
   "execution_count": null,
   "metadata": {},
   "outputs": [],
   "source": [
    "df['full_generic'] = full_generic"
   ]
  },
  {
   "cell_type": "code",
   "execution_count": null,
   "metadata": {},
   "outputs": [],
   "source": [
    "df[df['full_generic']==1]"
   ]
  },
  {
   "cell_type": "code",
   "execution_count": null,
   "metadata": {},
   "outputs": [],
   "source": [
    "df[df['full_generic']==1]['style'].value_counts()"
   ]
  },
  {
   "cell_type": "code",
   "execution_count": null,
   "metadata": {},
   "outputs": [],
   "source": [
    "df['style'].value_counts()"
   ]
  },
  {
   "cell_type": "code",
   "execution_count": null,
   "metadata": {
    "scrolled": false
   },
   "outputs": [],
   "source": [
    "df[df['full_generic']==1]['meets_guidelines'].mean()"
   ]
  },
  {
   "cell_type": "code",
   "execution_count": null,
   "metadata": {},
   "outputs": [],
   "source": [
    "asdf = {1:1, 2:2}\n",
    "type(asdf)"
   ]
  },
  {
   "cell_type": "code",
   "execution_count": null,
   "metadata": {},
   "outputs": [],
   "source": [
    "type(asdf) == 'dict'"
   ]
  },
  {
   "cell_type": "code",
   "execution_count": null,
   "metadata": {},
   "outputs": [],
   "source": [
    "type(asdf) == dict"
   ]
  },
  {
   "cell_type": "code",
   "execution_count": null,
   "metadata": {},
   "outputs": [],
   "source": []
  }
 ],
 "metadata": {
  "kernelspec": {
   "display_name": "Python 3",
   "language": "python",
   "name": "python3"
  },
  "language_info": {
   "codemirror_mode": {
    "name": "ipython",
    "version": 3
   },
   "file_extension": ".py",
   "mimetype": "text/x-python",
   "name": "python",
   "nbconvert_exporter": "python",
   "pygments_lexer": "ipython3",
   "version": "3.6.5"
  },
  "varInspector": {
   "cols": {
    "lenName": 16,
    "lenType": 16,
    "lenVar": 40
   },
   "kernels_config": {
    "python": {
     "delete_cmd_postfix": "",
     "delete_cmd_prefix": "del ",
     "library": "var_list.py",
     "varRefreshCmd": "print(var_dic_list())"
    },
    "r": {
     "delete_cmd_postfix": ") ",
     "delete_cmd_prefix": "rm(",
     "library": "var_list.r",
     "varRefreshCmd": "cat(var_dic_list()) "
    }
   },
   "types_to_exclude": [
    "module",
    "function",
    "builtin_function_or_method",
    "instance",
    "_Feature"
   ],
   "window_display": false
  }
 },
 "nbformat": 4,
 "nbformat_minor": 2
}
